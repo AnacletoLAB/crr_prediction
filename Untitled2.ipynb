{
 "cells": [
  {
   "cell_type": "code",
   "execution_count": 6,
   "metadata": {},
   "outputs": [],
   "source": [
    "from glob import glob\n",
    "import os"
   ]
  },
  {
   "cell_type": "code",
   "execution_count": 9,
   "metadata": {},
   "outputs": [],
   "source": [
    "paths = [\n",
    "    path\n",
    "    for path in glob(\"results/**/*.csv.gz\", recursive=True)\n",
    "    if \"_\" in path.split(\"/\")[-1]\n",
    "]\n",
    "\n",
    "for path in paths:\n",
    "    directory = os.path.dirname(path)\n",
    "    number = path.split(\"/\")[-1].split(\"_\")[0]\n",
    "    new_path = f\"{directory}/{number}.csv.gz\"\n",
    "    os.rename(path, new_path)"
   ]
  },
  {
   "cell_type": "code",
   "execution_count": null,
   "metadata": {},
   "outputs": [],
   "source": []
  }
 ],
 "metadata": {
  "kernelspec": {
   "display_name": "Python 3",
   "language": "python",
   "name": "python3"
  },
  "language_info": {
   "codemirror_mode": {
    "name": "ipython",
    "version": 3
   },
   "file_extension": ".py",
   "mimetype": "text/x-python",
   "name": "python",
   "nbconvert_exporter": "python",
   "pygments_lexer": "ipython3",
   "version": "3.7.6"
  }
 },
 "nbformat": 4,
 "nbformat_minor": 4
}
