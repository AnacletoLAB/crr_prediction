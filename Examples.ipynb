{
 "cells": [
  {
   "cell_type": "code",
   "execution_count": 1,
   "metadata": {},
   "outputs": [],
   "source": [
    "from meta_models.meta_models import FFNNMetaModel"
   ]
  },
  {
   "cell_type": "code",
   "execution_count": 7,
   "metadata": {},
   "outputs": [],
   "source": [
    "model = FFNNMetaModel(\n",
    "    input_shape=(100,),\n",
    "    meta_layer_kwargs=dict(\n",
    "        max_units=256,\n",
    "        batch_normalization=True,\n",
    "        dropout=True,\n",
    "        residual=True,\n",
    "        l1_regularization=1e-4,\n",
    "        l2_regularization=1e-4,\n",
    "        activity_regularizer=True,\n",
    "        kernel_regularizer=True,\n",
    "        bias_regularizer=True,\n",
    "    ),\n",
    ")"
   ]
  },
  {
   "cell_type": "code",
   "execution_count": 8,
   "metadata": {},
   "outputs": [
    {
     "data": {
      "text/plain": [
       "{'DenseRectangularMetaLayer_3_units': ('integer', 0, 256),\n",
       " 'DenseRectangularMetaLayer_3_dropout_rate': ('real', 0, 0.5),\n",
       " 'DenseRectangularMetaLayer_3_layers': ('integer', 0, 3),\n",
       " 'DenseRectangularMetaLayer_2_units': ('integer', 0, 256),\n",
       " 'DenseRectangularMetaLayer_2_dropout_rate': ('real', 0, 0.5),\n",
       " 'DenseRectangularMetaLayer_2_layers': ('integer', 0, 3),\n",
       " 'DenseRectangularMetaLayer_1_units': ('integer', 0, 256),\n",
       " 'DenseRectangularMetaLayer_1_dropout_rate': ('real', 0, 0.5),\n",
       " 'DenseRectangularMetaLayer_1_layers': ('integer', 0, 3),\n",
       " 'DenseRectangularMetaLayer_0_units': ('integer', 0, 256),\n",
       " 'DenseRectangularMetaLayer_0_dropout_rate': ('real', 0, 0.5),\n",
       " 'DenseRectangularMetaLayer_0_layers': ('integer', 0, 3)}"
      ]
     },
     "execution_count": 8,
     "metadata": {},
     "output_type": "execute_result"
    }
   ],
   "source": [
    "model.space()"
   ]
  },
  {
   "cell_type": "markdown",
   "metadata": {},
   "source": [
    "- [ ] Add max-pooling layer\n",
    "- [ ] "
   ]
  },
  {
   "cell_type": "code",
   "execution_count": 10,
   "metadata": {},
   "outputs": [],
   "source": [
    "from meta_models.meta_models import CNN2DMetaModel\n",
    "\n",
    "window_size = 256\n",
    "\n",
    "cnn = CNN2DMetaModel(\n",
    "    blocks=2,\n",
    "    input_shape=(window_size, 4),\n",
    "    target_shape=(window_size, 4, 1),\n",
    "    meta_layer_kwargs=dict(\n",
    "        batch_normalization=True,\n",
    "        dropout=True,\n",
    "        residual=True,\n",
    "        max_filters=128,\n",
    "        min_x_strides=2,\n",
    "        max_y_strides=2,\n",
    "        min_x_kernel_size=2,\n",
    "        max_x_kernel_size=8,\n",
    "        min_y_kernel_size=1,\n",
    "        max_y_kernel_size=1,\n",
    "        l1_regularization=1e-4,\n",
    "        l2_regularization=1e-4,\n",
    "        activity_regularizer=True,\n",
    "        kernel_regularizer=True,\n",
    "        bias_regularizer=True,\n",
    "    ),\n",
    "    top_ffnn_meta_model_kwargs=dict(\n",
    "        blocks=2,\n",
    "        meta_layer_kwargs=dict(\n",
    "            max_units=64,\n",
    "            batch_normalization=True,\n",
    "            residual=True,\n",
    "            dropout=True,\n",
    "            l1_regularization=1e-4,\n",
    "            l2_regularization=1e-4,\n",
    "            activity_regularizer=True,\n",
    "            kernel_regularizer=True,\n",
    "            bias_regularizer=True,\n",
    "        ),\n",
    "    )\n",
    ")\n"
   ]
  },
  {
   "cell_type": "code",
   "execution_count": 11,
   "metadata": {},
   "outputs": [
    {
     "data": {
      "text/plain": [
       "{'DenseRectangularMetaLayer_1_units': ('integer', 0, 64),\n",
       " 'DenseRectangularMetaLayer_1_dropout_rate': ('real', 0, 0.5),\n",
       " 'DenseRectangularMetaLayer_1_layers': ('integer', 0, 3),\n",
       " 'DenseRectangularMetaLayer_0_units': ('integer', 0, 64),\n",
       " 'DenseRectangularMetaLayer_0_dropout_rate': ('real', 0, 0.5),\n",
       " 'DenseRectangularMetaLayer_0_layers': ('integer', 0, 3),\n",
       " 'Conv2DRectangularMetaLayer_1_filters': ('integer', 0, 128),\n",
       " 'Conv2DRectangularMetaLayer_1_x_kernel_size': ('integer', 2, 8),\n",
       " 'Conv2DRectangularMetaLayer_1_dropout_rate': ('real', 0, 0.5),\n",
       " 'Conv2DRectangularMetaLayer_1_x_strides': ('integer', 2, 4),\n",
       " 'Conv2DRectangularMetaLayer_1_y_strides': ('integer', 1, 4),\n",
       " 'Conv2DRectangularMetaLayer_1_layers': ('integer', 0, 3),\n",
       " 'Conv2DRectangularMetaLayer_0_filters': ('integer', 0, 128),\n",
       " 'Conv2DRectangularMetaLayer_0_x_kernel_size': ('integer', 2, 8),\n",
       " 'Conv2DRectangularMetaLayer_0_dropout_rate': ('real', 0, 0.5),\n",
       " 'Conv2DRectangularMetaLayer_0_x_strides': ('integer', 2, 4),\n",
       " 'Conv2DRectangularMetaLayer_0_y_strides': ('integer', 1, 4),\n",
       " 'Conv2DRectangularMetaLayer_0_layers': ('integer', 0, 3)}"
      ]
     },
     "execution_count": 11,
     "metadata": {},
     "output_type": "execute_result"
    }
   ],
   "source": [
    "cnn.space()"
   ]
  },
  {
   "cell_type": "code",
   "execution_count": null,
   "metadata": {},
   "outputs": [],
   "source": []
  }
 ],
 "metadata": {
  "kernelspec": {
   "display_name": "Python 3",
   "language": "python",
   "name": "python3"
  },
  "language_info": {
   "codemirror_mode": {
    "name": "ipython",
    "version": 3
   },
   "file_extension": ".py",
   "mimetype": "text/x-python",
   "name": "python",
   "nbconvert_exporter": "python",
   "pygments_lexer": "ipython3",
   "version": "3.7.6"
  }
 },
 "nbformat": 4,
 "nbformat_minor": 4
}
