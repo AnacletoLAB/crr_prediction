{
 "cells": [
  {
   "cell_type": "code",
   "execution_count": 1,
   "metadata": {},
   "outputs": [],
   "source": [
    "from typing import Dict\n",
    "import os\n",
    "import sys\n",
    "import pandas as pd\n",
    "import numpy as np\n",
    "from epigenomic_dataset import load_all_tasks\n",
    "from tqdm.auto import tqdm\n",
    "from ucsc_genomes_downloader import Genome\n",
    "from keras_bed_sequence import BedSequence\n",
    "from keras_mixed_sequence import MixedSequence, VectorSequence\n",
    "from sklearn.model_selection import StratifiedShuffleSplit\n",
    "from meta_models.meta_models import CNN1DMetaModel, MetaModel\n",
    "from extra_keras_metrics import get_standard_binary_metrics\n",
    "import ray\n",
    "from ray import tune\n",
    "from ray.tune.suggest.bayesopt import BayesOptSearch\n",
    "from ray.tune.schedulers import ASHAScheduler\n",
    "from ray.tune.integration.keras import TuneReportCallback\n",
    "from tensorflow.keras.callbacks import EarlyStopping\n",
    "from multiprocessing import cpu_count\n",
    "import silence_tensorflow.auto"
   ]
  },
  {
   "cell_type": "code",
   "execution_count": 2,
   "metadata": {},
   "outputs": [],
   "source": [
    "def get_cnn_training_sequence(y:pd.DataFrame) -> MixedSequence:\n",
    "    \"\"\"Return training sequence for CNN.\n",
    "    \n",
    "    Parameters\n",
    "    --------------------\n",
    "    \n",
    "    \"\"\"\n",
    "    return MixedSequence(\n",
    "        BedSequence(\n",
    "            genome,\n",
    "            bed=y.reset_index()[y.index.names],\n",
    "            batch_size=batch_size,\n",
    "            seed=seed\n",
    "        ),\n",
    "        VectorSequence(\n",
    "            y.values,\n",
    "            batch_size=batch_size,\n",
    "            seed=seed,\n",
    "        )\n",
    "    )"
   ]
  },
  {
   "cell_type": "code",
   "execution_count": 3,
   "metadata": {},
   "outputs": [],
   "source": [
    "def build_cnn_meta_model(window_size:int)->CNN1DMetaModel:\n",
    "    return CNN1DMetaModel(\n",
    "        blocks=2,\n",
    "        input_shape=(window_size, 4),\n",
    "        meta_layer_kwargs=dict(\n",
    "            batch_normalization=False,\n",
    "            max_kernel_size=10,\n",
    "            min_kernel_size=2\n",
    "        )\n",
    "    )"
   ]
  },
  {
   "cell_type": "code",
   "execution_count": 4,
   "metadata": {},
   "outputs": [],
   "source": [
    "def train_cnn(\n",
    "    train:MixedSequence,\n",
    "    validation:MixedSequence,\n",
    "    meta_model:MetaModel,\n",
    "    max_epochs:int,\n",
    "    patience:int,\n",
    "    min_delta:float,\n",
    "    **kwargs:Dict\n",
    "):\n",
    "    model = meta_model.build(**kwargs)\n",
    "    model.compile(\n",
    "        optimizer='nadam',\n",
    "        loss=\"binary_crossentropy\",\n",
    "        metrics=get_standard_binary_metrics()\n",
    "    )\n",
    "    model.fit(\n",
    "        train,\n",
    "        validation_data=validation,\n",
    "        epochs=max_epochs,\n",
    "        verbose=False,\n",
    "        callbacks=[\n",
    "            TuneReportCallback(metrics=[\n",
    "                \"{}{}\".format(sub, metric)\n",
    "                for metric in model.metrics_names\n",
    "                for sub in (\"\", \"val_\")\n",
    "            ], ),\n",
    "            EarlyStopping(\n",
    "                monitor=\"loss\",\n",
    "                min_delta=min_delta,\n",
    "                patience=patience\n",
    "            )\n",
    "        ]\n",
    "    )"
   ]
  },
  {
   "cell_type": "code",
   "execution_count": 5,
   "metadata": {},
   "outputs": [],
   "source": [
    "def cnn_ray_loss_wrapper(config: Dict, **data):\n",
    "    import silence_tensorflow.auto\n",
    "    train_cnn(**config, **data)"
   ]
  },
  {
   "cell_type": "code",
   "execution_count": 6,
   "metadata": {},
   "outputs": [
    {
     "data": {
      "application/vnd.jupyter.widget-view+json": {
       "model_id": "",
       "version_major": 2,
       "version_minor": 0
      },
      "text/plain": [
       "HBox(children=(HTML(value='Loading chromosomes for genome hg38'), FloatProgress(value=0.0, layout=Layout(flex=…"
      ]
     },
     "metadata": {},
     "output_type": "display_data"
    }
   ],
   "source": [
    "# Sequence data\n",
    "genome = Genome(\"hg38\")\n",
    "window_size=256\n",
    "# Holdouts stuff\n",
    "seed=42\n",
    "holdouts=1\n",
    "inner_holdouts=1\n",
    "# BO\n",
    "num_samples=200\n",
    "random_search_steps=50\n",
    "# Training\n",
    "max_epochs=1000\n",
    "# Early stopping\n",
    "batch_size = 256\n",
    "patience=5\n",
    "min_delta=0.0001"
   ]
  },
  {
   "cell_type": "code",
   "execution_count": 7,
   "metadata": {},
   "outputs": [],
   "source": [
    "# Build the meta-model\n",
    "meta_model = build_cnn_meta_model(window_size)"
   ]
  },
  {
   "cell_type": "code",
   "execution_count": null,
   "metadata": {
    "scrolled": false
   },
   "outputs": [
    {
     "data": {
      "text/html": [
       "== Status ==<br>Memory usage on this node: 19.0/251.8 GiB<br>Using AsyncHyperBand: num_stopped=110\n",
       "Bracket: Iter 90.000: -0.43813180550932884 | Iter 30.000: -1.1878391976157825 | Iter 10.000: -0.5761815950274466<br>Resources requested: 40/40 CPUs, 4/4 GPUs, 0.0/163.77 GiB heap, 0.0/51.17 GiB objects (0/1.0 accelerator_type:V100)<br>Result logdir: /root/ray_results/active_enhancers_vs_inactive_enhancers-0-0<br>Number of trials: 147/200 (1 PENDING, 4 RUNNING, 142 TERMINATED)<br><br>"
      ],
      "text/plain": [
       "<IPython.core.display.HTML object>"
      ]
     },
     "metadata": {},
     "output_type": "display_data"
    }
   ],
   "source": [
    "# Starting up Ray\n",
    "ray.init(ignore_reinit_error=True)\n",
    "\n",
    "# Main loop\n",
    "for (X, y), task in tqdm(load_all_tasks(window_size=window_size), desc=\"Tasks\", total=5):\n",
    "    for outer, (train_idx, test_idx) in tqdm(\n",
    "        enumerate(StratifiedShuffleSplit(\n",
    "            n_splits=holdouts,\n",
    "            train_size=0.8,\n",
    "            random_state=seed\n",
    "        ).split(X, y)),\n",
    "        desc=\"Outer holdouts\",\n",
    "        total=holdouts\n",
    "   ):\n",
    "        train_x, test_x = X.iloc[train_idx], X.iloc[test_idx]\n",
    "        train_y, test_y = y.iloc[train_idx], y.iloc[test_idx]\n",
    "        for inner, (inner_train_idx, valid_idx) in tqdm(\n",
    "            enumerate(StratifiedShuffleSplit(\n",
    "                n_splits=inner_holdouts,\n",
    "                train_size=0.8,\n",
    "                random_state=seed\n",
    "            ).split(train_x, train_y)),\n",
    "            desc=\"Inner holdouts\",\n",
    "            total=inner_holdouts\n",
    "        ):\n",
    "            inner_train_x, valid_x = train_x.iloc[inner_train_idx], train_x.iloc[valid_idx]\n",
    "            inner_train_y, valid_y = train_y.iloc[inner_train_idx], train_y.iloc[valid_idx]\n",
    "            inner_train_sequence = get_training_sequence(inner_train_y)\n",
    "            valid_sequence = get_training_sequence(valid_y)\n",
    "            bayesopt = BayesOptSearch(\n",
    "                meta_model.space(),\n",
    "                metric=\"val_loss\",\n",
    "                mode=\"min\",\n",
    "                random_search_steps=random_search_steps,\n",
    "                random_state=seed,\n",
    "            )\n",
    "            asha_scheduler = ASHAScheduler(\n",
    "                time_attr='training_iteration',\n",
    "                metric='val_loss',\n",
    "                mode='min',\n",
    "                max_t=100,\n",
    "                grace_period=10,\n",
    "                reduction_factor=3,\n",
    "                brackets=1\n",
    "            )\n",
    "            validation = tune.run(\n",
    "                tune.with_parameters(\n",
    "                    cnn_ray_loss_wrapper,\n",
    "                    train=inner_train_sequence,\n",
    "                    validation=valid_sequence,\n",
    "                    meta_model=meta_model\n",
    "                ),\n",
    "                name=\"{}-{}-{}\".format(\n",
    "                    task,\n",
    "                    outer,\n",
    "                    inner\n",
    "                ),\n",
    "                search_alg=bayesopt,\n",
    "                scheduler=asha_scheduler,\n",
    "                resources_per_trial={\n",
    "                    \"cpu\": cpu_count()//4,\n",
    "                    \"gpu\": 1\n",
    "                },\n",
    "                num_samples=num_samples,\n",
    "                fail_fast=True,\n",
    "                verbose=1,\n",
    "                config={\n",
    "                    \"window_size\": window_size,\n",
    "                    \"max_epochs\": max_epochs,\n",
    "                    \"patience\": patience,\n",
    "                    \"min_delta\": min_delta\n",
    "                }\n",
    "            )\n",
    "            break\n",
    "        break\n",
    "    break"
   ]
  },
  {
   "cell_type": "code",
   "execution_count": null,
   "metadata": {},
   "outputs": [],
   "source": [
    "validation.dataframe()"
   ]
  },
  {
   "cell_type": "code",
   "execution_count": null,
   "metadata": {},
   "outputs": [],
   "source": []
  }
 ],
 "metadata": {
  "kernelspec": {
   "display_name": "Python 3",
   "language": "python",
   "name": "python3"
  },
  "language_info": {
   "codemirror_mode": {
    "name": "ipython",
    "version": 3
   },
   "file_extension": ".py",
   "mimetype": "text/x-python",
   "name": "python",
   "nbconvert_exporter": "python",
   "pygments_lexer": "ipython3",
   "version": "3.6.9"
  }
 },
 "nbformat": 4,
 "nbformat_minor": 4
}
