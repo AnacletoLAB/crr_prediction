{
 "cells": [
  {
   "cell_type": "code",
   "execution_count": 1,
   "metadata": {},
   "outputs": [
    {
     "name": "stdout",
     "output_type": "stream",
     "text": [
      "\u001b[33mWARNING: dict-hash 1.1.14 does not provide the extra 'compress_json'\u001b[0m\r\n"
     ]
    }
   ],
   "source": [
    "! pip install epigenomic_dataset pandas minepy downloaders > /dev/null"
   ]
  },
  {
   "cell_type": "code",
   "execution_count": 2,
   "metadata": {},
   "outputs": [],
   "source": [
    "import pandas as pd\n",
    "import numpy as np\n",
    "from epigenomic_dataset import active_enhancers_vs_inactive_enhancers, inactive_enhancers_vs_inactive_promoters\n",
    "from epigenomic_dataset.utils import normalize_epigenomic_data\n",
    "from downloaders import BaseDownloader"
   ]
  },
  {
   "cell_type": "code",
   "execution_count": 38,
   "metadata": {},
   "outputs": [],
   "source": [
    "cell_line = \"GM12878\"\n",
    "X, y = active_enhancers_vs_inactive_enhancers(cell_line=cell_line)\n",
    "X = pd.DataFrame(\n",
    "    normalize_epigenomic_data(X, X)[0],\n",
    "    index=X.index,\n",
    "    columns=X.columns\n",
    ")\n",
    "all_data = pd.concat([\n",
    "    X, y\n",
    "], axis=1)"
   ]
  },
  {
   "cell_type": "code",
   "execution_count": 49,
   "metadata": {},
   "outputs": [
    {
     "data": {
      "text/plain": [
       "NBN                0.423027\n",
       "POLR2AphosphoS5    0.434706\n",
       "RELB               0.420932\n",
       "MLLT1              0.428456\n",
       "DNase-seq          0.421063\n",
       "Name: GM12878, dtype: float64"
      ]
     },
     "execution_count": 49,
     "metadata": {},
     "output_type": "execute_result"
    }
   ],
   "source": [
    "spearman_columns = all_data.corr(\"spearman\")[cell_line].abs()\n",
    "spearman_columns[(spearman_columns>0.4) & (spearman_columns<0.99)]"
   ]
  },
  {
   "cell_type": "code",
   "execution_count": 50,
   "metadata": {},
   "outputs": [
    {
     "data": {
      "text/plain": [
       "0.37670809069030486"
      ]
     },
     "execution_count": 50,
     "metadata": {},
     "output_type": "execute_result"
    }
   ],
   "source": [
    "spearman_columns[\"ATF2\"]"
   ]
  },
  {
   "cell_type": "markdown",
   "metadata": {},
   "source": [
    "from minepy import pstats, cstats\n",
    "correlations = all_data[highly_corelated_columns+[cell_line]].corr(lambda x, y: cstats(np.array([x]), np.array([y]))[0]).abs()\n",
    "correlations"
   ]
  },
  {
   "cell_type": "code",
   "execution_count": 4,
   "metadata": {},
   "outputs": [],
   "source": [
    "url_epigenomic = \"https://github.com/LucaCappelletti94/miur_daad_dataset_pipeline/blob/master/dataset/epigenomic_data/GM12878.csv.gz?raw=true\"\n",
    "url_regions = \"https://github.com/LucaCappelletti94/miur_daad_dataset_pipeline/blob/master/dataset/classes/GM12878.csv.gz?raw=true\""
   ]
  },
  {
   "cell_type": "code",
   "execution_count": 14,
   "metadata": {},
   "outputs": [
    {
     "data": {
      "application/vnd.jupyter.widget-view+json": {
       "model_id": "",
       "version_major": 2,
       "version_minor": 0
      },
      "text/plain": [
       "HBox(children=(HTML(value='Downloading to downloads/epigen...ic/GM12878.csv.gz'), FloatProgress(value=0.0, lay…"
      ]
     },
     "metadata": {},
     "output_type": "display_data"
    },
    {
     "data": {
      "application/vnd.jupyter.widget-view+json": {
       "model_id": "",
       "version_major": 2,
       "version_minor": 0
      },
      "text/plain": [
       "HBox(children=(HTML(value='Downloading to downloads/labels/GM12878.csv.gz'), FloatProgress(value=0.0, layout=L…"
      ]
     },
     "metadata": {},
     "output_type": "display_data"
    },
    {
     "data": {
      "text/html": [
       "<div>\n",
       "<style scoped>\n",
       "    .dataframe tbody tr th:only-of-type {\n",
       "        vertical-align: middle;\n",
       "    }\n",
       "\n",
       "    .dataframe tbody tr th {\n",
       "        vertical-align: top;\n",
       "    }\n",
       "\n",
       "    .dataframe thead th {\n",
       "        text-align: right;\n",
       "    }\n",
       "</style>\n",
       "<table border=\"1\" class=\"dataframe\">\n",
       "  <thead>\n",
       "    <tr style=\"text-align: right;\">\n",
       "      <th></th>\n",
       "      <th>status_code</th>\n",
       "      <th>file_size</th>\n",
       "      <th>downloaded_file_size</th>\n",
       "      <th>url</th>\n",
       "      <th>destination</th>\n",
       "      <th>success</th>\n",
       "      <th>cached</th>\n",
       "      <th>exception</th>\n",
       "      <th>extraction_file_size</th>\n",
       "      <th>extraction_destination</th>\n",
       "      <th>extraction_cached</th>\n",
       "      <th>extraction_success</th>\n",
       "    </tr>\n",
       "  </thead>\n",
       "  <tbody>\n",
       "    <tr>\n",
       "      <th>0</th>\n",
       "      <td>200</td>\n",
       "      <td>1049</td>\n",
       "      <td>1049</td>\n",
       "      <td>https://github.com/LucaCappelletti94/miur_daad...</td>\n",
       "      <td>downloads/labels/GM12878.csv.gz</td>\n",
       "      <td>True</td>\n",
       "      <td>False</td>\n",
       "      <td></td>\n",
       "      <td>812192</td>\n",
       "      <td>downloads/labels/GM12878.csv</td>\n",
       "      <td>False</td>\n",
       "      <td>True</td>\n",
       "    </tr>\n",
       "  </tbody>\n",
       "</table>\n",
       "</div>"
      ],
      "text/plain": [
       "   status_code  file_size  downloaded_file_size  \\\n",
       "0          200       1049                  1049   \n",
       "\n",
       "                                                 url  \\\n",
       "0  https://github.com/LucaCappelletti94/miur_daad...   \n",
       "\n",
       "                       destination  success  cached exception  \\\n",
       "0  downloads/labels/GM12878.csv.gz     True   False             \n",
       "\n",
       "   extraction_file_size        extraction_destination  extraction_cached  \\\n",
       "0                812192  downloads/labels/GM12878.csv              False   \n",
       "\n",
       "   extraction_success  \n",
       "0                True  "
      ]
     },
     "execution_count": 14,
     "metadata": {},
     "output_type": "execute_result"
    }
   ],
   "source": [
    "downloader = BaseDownloader(verbose=2)\n",
    "downloader.download(url_epigenomic, paths=\"downloads/epigenomic/GM12878.csv.gz\")\n",
    "downloader.download(url_regions, paths=\"downloads/labels/GM12878.csv.gz\")"
   ]
  },
  {
   "cell_type": "code",
   "execution_count": 40,
   "metadata": {},
   "outputs": [],
   "source": [
    "X1 = pd.read_csv(\"downloads/epigenomic/GM12878.csv\", index_col=0)\n",
    "Y1 = pd.read_csv(\"downloads/labels/GM12878.csv\", header=None)\n",
    "Y1.columns = [cell_line]\n",
    "vero = \"A-E\"\n",
    "falso = \"I-E\"\n",
    "X1 = X1[Y1[cell_line].isin([vero, falso])]\n",
    "Y1 = Y1[Y1[cell_line].isin([vero, falso])]\n",
    "Y1 = (Y1==vero).astype(int)\n",
    "all_data1 = pd.concat([\n",
    "    X1, Y1\n",
    "], axis=1)"
   ]
  },
  {
   "cell_type": "code",
   "execution_count": 48,
   "metadata": {},
   "outputs": [
    {
     "data": {
      "text/plain": [
       "ATF2              0.447071\n",
       "BCL11A            0.405345\n",
       "BCLAF1            0.419686\n",
       "BHLHE40           0.428105\n",
       "CEBPB             0.428170\n",
       "CHD2              0.424635\n",
       "CREB1             0.414367\n",
       "DNASE             0.421594\n",
       "FAIRE             0.426916\n",
       "FOXM1             0.442808\n",
       "H3K27AC           0.461400\n",
       "H3K4ME2           0.444122\n",
       "H3K4ME3           0.431883\n",
       "H3K9AC            0.428077\n",
       "MEF2A             0.413870\n",
       "MTA3              0.445419\n",
       "MXI1              0.402550\n",
       "NFATC1            0.433190\n",
       "NFIC              0.445188\n",
       "NFKB              0.413091\n",
       "PAX5              0.403690\n",
       "PML               0.454502\n",
       "POL2(POLR2A)      0.462641\n",
       "POU2F2            0.436621\n",
       "RUNX3             0.441606\n",
       "SP1               0.427813\n",
       "STAT5A            0.435978\n",
       "TAF1              0.413743\n",
       "TBLR1(TBL1XR1)    0.407121\n",
       "TBP               0.443925\n",
       "Name: GM12878, dtype: float64"
      ]
     },
     "execution_count": 48,
     "metadata": {},
     "output_type": "execute_result"
    }
   ],
   "source": [
    "spearman_columns1 = all_data1.corr(\"spearman\")[cell_line].abs()\n",
    "spearman_columns1[(spearman_columns1>0.4) & (spearman_columns1<0.99)]"
   ]
  },
  {
   "cell_type": "code",
   "execution_count": 53,
   "metadata": {},
   "outputs": [
    {
     "data": {
      "text/plain": [
       "False"
      ]
     },
     "execution_count": 53,
     "metadata": {},
     "output_type": "execute_result"
    }
   ],
   "source": [
    "\"PML\" in all_data.columns"
   ]
  },
  {
   "cell_type": "code",
   "execution_count": 37,
   "metadata": {},
   "outputs": [
    {
     "data": {
      "text/plain": [
       "Index(['ATF2', 'ATF3', 'BATF', 'BCL11A', 'BCL3', 'BCLAF1', 'BHLHE40', 'BRCA1',\n",
       "       'C-FOS(FOS)', 'C-MYC(MYC)',\n",
       "       ...\n",
       "       'USF2', 'WHIP(WRNIP1)', 'YY1', 'ZBTB33', 'ZEB1', 'ZNF143', 'ZNF274',\n",
       "       'ZNF384', 'ZZZ3', 'GM12878'],\n",
       "      dtype='object', length=102)"
      ]
     },
     "execution_count": 37,
     "metadata": {},
     "output_type": "execute_result"
    }
   ],
   "source": [
    "all_data1.columns"
   ]
  }
 ],
 "metadata": {
  "kernelspec": {
   "display_name": "Python 3",
   "language": "python",
   "name": "python3"
  },
  "language_info": {
   "codemirror_mode": {
    "name": "ipython",
    "version": 3
   },
   "file_extension": ".py",
   "mimetype": "text/x-python",
   "name": "python",
   "nbconvert_exporter": "python",
   "pygments_lexer": "ipython3",
   "version": "3.6.9"
  }
 },
 "nbformat": 4,
 "nbformat_minor": 4
}
