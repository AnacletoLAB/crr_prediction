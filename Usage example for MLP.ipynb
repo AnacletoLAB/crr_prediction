{
 "cells": [
  {
   "cell_type": "code",
   "execution_count": 9,
   "metadata": {},
   "outputs": [],
   "source": [
    "import silence_tensorflow.auto\n",
    "import tensorflow as tf\n",
    "import ray\n",
    "import os\n",
    "import pandas as pd\n",
    "from epigenomic_dataset import load_all_tasks\n",
    "from epigenomic_dataset.utils import normalize_epigenomic_data\n",
    "from crr_prediction.baseline_models import deep_enhancers\n",
    "from crr_prediction.sequences import build_mlp_sequences\n",
    "from crr_prediction.meta_models import build_mlp_meta_model\n",
    "from crr_prediction.train_meta_models import train\n",
    "from ucsc_genomes_downloader import Genome\n",
    "from meta_models.tuner import RayHyperOptTuner\n",
    "from meta_models.utils import stratified_holdouts, get_minimum_gpu_rate_per_trial,enable_subgpu_training\n",
    "from plot_keras_history import plot_history"
   ]
  },
  {
   "cell_type": "code",
   "execution_count": 2,
   "metadata": {},
   "outputs": [],
   "source": [
    "from meta_models.utils import patch_global_checkpoints_interval\n",
    "patch_global_checkpoints_interval()"
   ]
  },
  {
   "cell_type": "code",
   "execution_count": 3,
   "metadata": {},
   "outputs": [],
   "source": [
    "# Which data to load\n",
    "window_size=256\n",
    "cell_line=\"GM12878\"\n",
    "# Holdouts stuff\n",
    "random_state=42\n",
    "test_size=0.2\n",
    "valid_size=0.2\n",
    "n_splits=2\n",
    "# BO\n",
    "num_samples=10\n",
    "random_search_steps=5\n",
    "#\n",
    "batch_size = 256"
   ]
  },
  {
   "cell_type": "code",
   "execution_count": 4,
   "metadata": {},
   "outputs": [
    {
     "name": "stderr",
     "output_type": "stream",
     "text": [
      "2021-01-18 08:16:32,071\tINFO services.py:1174 -- View the Ray dashboard at \u001b[1m\u001b[32mhttp://127.0.0.1:8265\u001b[39m\u001b[22m\n",
      "2021-01-18 08:16:32,077\tWARN services.py:1628 -- WARNING: The object store is using /tmp instead of /dev/shm because /dev/shm has only 1073741824 bytes available. This will harm performance! You may be able to free up space by deleting files in /dev/shm. If you are inside a Docker container, you can increase /dev/shm size by passing '--shm-size=Xgb' to 'docker run' (or add it to the run_options list in a Ray cluster config). Make sure to set this to more than 2gb.\n"
     ]
    },
    {
     "data": {
      "text/plain": [
       "{'node_ip_address': '192.168.127.128',\n",
       " 'raylet_ip_address': '192.168.127.128',\n",
       " 'redis_address': '192.168.127.128:6379',\n",
       " 'object_store_address': '/tmp/ray/session_2021-01-18_08-16-31_454960_4372/sockets/plasma_store',\n",
       " 'raylet_socket_name': '/tmp/ray/session_2021-01-18_08-16-31_454960_4372/sockets/raylet',\n",
       " 'webui_url': '127.0.0.1:8265',\n",
       " 'session_dir': '/tmp/ray/session_2021-01-18_08-16-31_454960_4372',\n",
       " 'metrics_export_port': 41854,\n",
       " 'node_id': 'e331ff4b3fac87f4a27d2541a40d002fb5211d19de6b9fa4c04d5b10'}"
      ]
     },
     "execution_count": 4,
     "metadata": {},
     "output_type": "execute_result"
    }
   ],
   "source": [
    "# Starting up Ray\n",
    "ray.init()"
   ]
  },
  {
   "cell_type": "code",
   "execution_count": 10,
   "metadata": {},
   "outputs": [],
   "source": [
    "enable_subgpu_training()"
   ]
  },
  {
   "cell_type": "code",
   "execution_count": 12,
   "metadata": {
    "scrolled": false
   },
   "outputs": [
    {
     "data": {
      "text/html": [
       "== Status ==<br>Memory usage on this node: 19.8/251.8 GiB<br>Using AsyncHyperBand: num_stopped=0\n",
       "Bracket: Iter 40.000: None | Iter 10.000: None<br>Resources requested: 5.0/40 CPUs, 0.5/4 GPUs, 0.0/165.53 GiB heap, 0.0/51.71 GiB objects (0/1.0 accelerator_type:V100)<br>Current best trial: d906907e with val_AUPRC=0.4751998782157898 and parameters={'DenseRectangularMetaLayer_0_dropout_rate': 0.4964746571901192, 'DenseRectangularMetaLayer_0_layers': 2, 'DenseRectangularMetaLayer_0_units': 56, 'DenseRectangularMetaLayer_1_dropout_rate': 0.41382811019198684, 'DenseRectangularMetaLayer_1_layers': 2, 'DenseRectangularMetaLayer_1_units': 0, 'DenseRectangularMetaLayer_2_dropout_rate': 0.1430151264071609, 'DenseRectangularMetaLayer_2_layers': 0, 'DenseRectangularMetaLayer_2_units': 56, 'DenseRectangularMetaLayer_3_dropout_rate': 0.066012797604866, 'DenseRectangularMetaLayer_3_layers': 0, 'DenseRectangularMetaLayer_3_units': 28}<br>Result logdir: /root/ray_results/active_promoters_vs_inactive_promoters-0<br>Number of trials: 10/10 (10 RUNNING)<br><br>"
      ],
      "text/plain": [
       "<IPython.core.display.HTML object>"
      ]
     },
     "metadata": {},
     "output_type": "display_data"
    },
    {
     "name": "stderr",
     "output_type": "stream",
     "text": [
      "ERRO:root:Internal Python error in the inspect module.\n",
      "Below is the traceback from this internal error.\n",
      "\n"
     ]
    },
    {
     "name": "stdout",
     "output_type": "stream",
     "text": [
      "Traceback (most recent call last):\n",
      "  File \"/usr/local/lib/python3.6/dist-packages/IPython/core/interactiveshell.py\", line 3319, in run_code\n",
      "    exec(code_obj, self.user_global_ns, self.user_ns)\n",
      "  File \"<ipython-input-12-6a858be0aec2>\", line 46, in <module>\n",
      "    verbose=1\n",
      "  File \"/usr/local/lib/python3.6/dist-packages/meta_models/tuner/ray_tuner.py\", line 142, in tune\n",
      "    verbose=verbose\n",
      "  File \"/usr/local/lib/python3.6/dist-packages/ray/tune/tune.py\", line 420, in run\n",
      "    runner.step()\n",
      "  File \"/usr/local/lib/python3.6/dist-packages/ray/tune/trial_runner.py\", line 361, in step\n",
      "    self._process_events()  # blocking\n",
      "  File \"/usr/local/lib/python3.6/dist-packages/ray/tune/trial_runner.py\", line 478, in _process_events\n",
      "    trial = self.trial_executor.get_next_available_trial()  # blocking\n",
      "  File \"/usr/local/lib/python3.6/dist-packages/ray/tune/ray_trial_executor.py\", line 489, in get_next_available_trial\n",
      "    [result_id], _ = ray.wait(shuffled_results)\n",
      "  File \"/usr/local/lib/python3.6/dist-packages/ray/_private/client_mode_hook.py\", line 47, in wrapper\n",
      "    return func(*args, **kwargs)\n",
      "  File \"/usr/local/lib/python3.6/dist-packages/ray/worker.py\", line 1528, in wait\n",
      "    fetch_local,\n",
      "  File \"python/ray/_raylet.pyx\", line 1035, in ray._raylet.CoreWorker.wait\n",
      "  File \"python/ray/_raylet.pyx\", line 147, in ray._raylet.check_status\n",
      "KeyboardInterrupt\n",
      "\n",
      "During handling of the above exception, another exception occurred:\n",
      "\n",
      "Traceback (most recent call last):\n",
      "  File \"/usr/local/lib/python3.6/dist-packages/IPython/core/interactiveshell.py\", line 2034, in showtraceback\n",
      "    stb = value._render_traceback_()\n",
      "AttributeError: 'KeyboardInterrupt' object has no attribute '_render_traceback_'\n",
      "\n",
      "During handling of the above exception, another exception occurred:\n",
      "\n",
      "Traceback (most recent call last):\n",
      "  File \"/usr/local/lib/python3.6/dist-packages/IPython/core/ultratb.py\", line 1151, in get_records\n",
      "    return _fixed_getinnerframes(etb, number_of_lines_of_context, tb_offset)\n",
      "  File \"/usr/local/lib/python3.6/dist-packages/IPython/core/ultratb.py\", line 319, in wrapped\n",
      "    return f(*args, **kwargs)\n",
      "  File \"/usr/local/lib/python3.6/dist-packages/IPython/core/ultratb.py\", line 353, in _fixed_getinnerframes\n",
      "    records = fix_frame_records_filenames(inspect.getinnerframes(etb, context))\n",
      "  File \"/usr/lib/python3.6/inspect.py\", line 1490, in getinnerframes\n",
      "    frameinfo = (tb.tb_frame,) + getframeinfo(tb, context)\n",
      "  File \"/usr/lib/python3.6/inspect.py\", line 1448, in getframeinfo\n",
      "    filename = getsourcefile(frame) or getfile(frame)\n",
      "  File \"/usr/lib/python3.6/inspect.py\", line 696, in getsourcefile\n",
      "    if getattr(getmodule(object, filename), '__loader__', None) is not None:\n",
      "  File \"/usr/lib/python3.6/inspect.py\", line 735, in getmodule\n",
      "    if f == _filesbymodname.get(modname, None):\n",
      "KeyboardInterrupt\n"
     ]
    },
    {
     "ename": "KeyboardInterrupt",
     "evalue": "",
     "output_type": "error",
     "traceback": [
      "\u001b[0;31m---------------------------------------------------------------------------\u001b[0m"
     ]
    }
   ],
   "source": [
    "build_sequences = build_mlp_sequences\n",
    "build_meta_model = build_mlp_meta_model\n",
    "total_threads = 80\n",
    "resolution = 10\n",
    "for (X, y), task in load_all_tasks(\n",
    "    cell_line=cell_line,\n",
    "    window_size=window_size,\n",
    "):\n",
    "    for holdout_number, train_x, test_x, train_y, test_y in stratified_holdouts(\n",
    "        n_splits=n_splits,\n",
    "        random_state=random_state,\n",
    "        train_size=1-test_size,\n",
    "        X=X,\n",
    "        y=y,\n",
    "        task_name=task\n",
    "    ):\n",
    "        subtrain_x, valid_x, subtrain_y, valid_y = stratified_holdouts(\n",
    "            random_state=random_state,\n",
    "            train_size=1-valid_size,\n",
    "            X=train_x,\n",
    "            y=train_y\n",
    "        )\n",
    "        train, test, subtrain, valid = build_sequences(\n",
    "            train_x=train_x,\n",
    "            test_x=test_x,\n",
    "            subtrain_x=subtrain_x,\n",
    "            valid_x=valid_x,\n",
    "            train_y=train_y,\n",
    "            test_y=test_y,\n",
    "            subtrain_y=subtrain_y,\n",
    "            valid_y=valid_y,\n",
    "            batch_size=batch_size,\n",
    "            random_state=random_state\n",
    "        )\n",
    "        tuner = RayHyperOptTuner(\n",
    "            meta_model=build_meta_model(subtrain.features),\n",
    "            resolution=resolution\n",
    "        )\n",
    "        tuning_analysis = tuner.tune(\n",
    "            train=subtrain.rasterize(verbose=False),\n",
    "            validation_data=valid.rasterize(verbose=False),\n",
    "            name=f\"{task}-{holdout_number}\",\n",
    "            num_samples=num_samples,\n",
    "            random_search_steps=random_search_steps,\n",
    "            total_threads=total_threads,\n",
    "            verbose=1\n",
    "        )\n",
    "\n",
    "        os.makedirs(f\"results/tuning_analyses/{task}/{cell_line}\", exist_ok=True)\n",
    "        tuning_analysis.to_csv(\n",
    "            f\"results/tuning_analyses/{task}/{cell_line}/{holdout_number}.csv\",\n",
    "            index=False\n",
    "        )\n",
    "        \n",
    "        history = tuner.fit(train=train.rasterize(verbose=False), verbose=True)\n",
    "\n",
    "        os.makedirs(f\"results/training_histories/{task}/{cell_line}\", exist_ok=True)\n",
    "        history.to_csv(\n",
    "            f\"results/training_histories/{task}/{cell_line}/{holdout_number}.csv\",\n",
    "            index=False\n",
    "        )\n",
    "\n",
    "        train_performance = tuner.evaluate(train, verbose=False)\n",
    "        test_performance = tuner.evaluate(test, verbose=False)\n",
    "        subtrain_performance = tuner.evaluate(subtrain, verbose=False)\n",
    "        valid_performance = tuner.evaluate(valid, verbose=False)\n",
    "\n",
    "        metadata = {\n",
    "            \"task\": task,\n",
    "            \"cell_line\": cell_line,\n",
    "            \"holdout_number\": holdout_number,\n",
    "            **tuner.optimal_configuration\n",
    "        }\n",
    "\n",
    "        performance = pd.DataFrame([\n",
    "            {\n",
    "                \"run_type\": \"train\",\n",
    "                **metadata,\n",
    "                **train_performance,\n",
    "            },\n",
    "            {\n",
    "                \"run_type\": \"test\",\n",
    "                **metadata,\n",
    "                **test_performance,\n",
    "            },\n",
    "            {\n",
    "                \"run_type\": \"subtrain\",\n",
    "                **metadata,\n",
    "                **subtrain_performance,\n",
    "            },\n",
    "            {\n",
    "                \"run_type\": \"valid\",\n",
    "                **metadata,\n",
    "                **valid_performance,\n",
    "            }\n",
    "        ])"
   ]
  }
 ],
 "metadata": {
  "kernelspec": {
   "display_name": "Python 3",
   "language": "python",
   "name": "python3"
  },
  "language_info": {
   "codemirror_mode": {
    "name": "ipython",
    "version": 3
   },
   "file_extension": ".py",
   "mimetype": "text/x-python",
   "name": "python",
   "nbconvert_exporter": "python",
   "pygments_lexer": "ipython3",
   "version": "3.6.9"
  }
 },
 "nbformat": 4,
 "nbformat_minor": 4
}
