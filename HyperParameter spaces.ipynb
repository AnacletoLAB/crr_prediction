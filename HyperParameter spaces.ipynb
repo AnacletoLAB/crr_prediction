{
 "cells": [
  {
   "cell_type": "code",
   "execution_count": 117,
   "metadata": {},
   "outputs": [],
   "source": [
    "from sanitize_ml_labels import sanitize_ml_labels\n",
    "from tqdm.auto import tqdm"
   ]
  },
  {
   "cell_type": "code",
   "execution_count": 1,
   "metadata": {},
   "outputs": [],
   "source": [
    "from crr_prediction.meta_models import build_cnn_meta_model, build_mlp_meta_model"
   ]
  },
  {
   "cell_type": "code",
   "execution_count": 167,
   "metadata": {},
   "outputs": [],
   "source": [
    "meta_cnn = build_cnn_meta_model(256)\n",
    "meta_ffnn = build_mlp_meta_model(256)"
   ]
  },
  {
   "cell_type": "code",
   "execution_count": 168,
   "metadata": {},
   "outputs": [],
   "source": [
    "from typing import Dict\n",
    "import numpy as np\n",
    "\n",
    "\n",
    "def random_space_sampling(space: Dict) -> Dict:\n",
    "    \"\"\"Return random space uniform sample.\"\"\"\n",
    "    return {\n",
    "        key: np.random.uniform(low, high)\n",
    "        for key, (_, low, high) in space.items()\n",
    "    }\n"
   ]
  },
  {
   "cell_type": "code",
   "execution_count": 180,
   "metadata": {},
   "outputs": [
    {
     "data": {
      "text/plain": [
       "{'DenseRectangularMetaLayer_1_units': ('integer', 0, 64),\n",
       " 'DenseRectangularMetaLayer_1_dropout_rate': ('real', 0, 0.5),\n",
       " 'DenseRectangularMetaLayer_1_layers': ('integer', 0, 3),\n",
       " 'DenseRectangularMetaLayer_0_units': ('integer', 0, 64),\n",
       " 'DenseRectangularMetaLayer_0_dropout_rate': ('real', 0, 0.5),\n",
       " 'DenseRectangularMetaLayer_0_layers': ('integer', 0, 3),\n",
       " 'Conv2DRectangularMetaLayer_1_filters': ('integer', 0, 128),\n",
       " 'Conv2DRectangularMetaLayer_1_x_kernel_size': ('integer', 2, 8),\n",
       " 'Conv2DRectangularMetaLayer_1_y_kernel_size': ('integer', 1, 2),\n",
       " 'Conv2DRectangularMetaLayer_1_dropout_rate': ('real', 0, 0.5),\n",
       " 'Conv2DRectangularMetaLayer_1_layers': ('integer', 0, 3),\n",
       " 'Conv2DRectangularMetaLayer_1_x_pool_size': ('integer', 1, 8),\n",
       " 'Conv2DRectangularMetaLayer_1_y_pool_size': ('integer', 1, 2),\n",
       " 'Conv2DRectangularMetaLayer_0_filters': ('integer', 0, 128),\n",
       " 'Conv2DRectangularMetaLayer_0_x_kernel_size': ('integer', 2, 8),\n",
       " 'Conv2DRectangularMetaLayer_0_y_kernel_size': ('integer', 1, 2),\n",
       " 'Conv2DRectangularMetaLayer_0_dropout_rate': ('real', 0, 0.5),\n",
       " 'Conv2DRectangularMetaLayer_0_layers': ('integer', 0, 3),\n",
       " 'Conv2DRectangularMetaLayer_0_x_pool_size': ('integer', 1, 8),\n",
       " 'Conv2DRectangularMetaLayer_0_y_pool_size': ('integer', 1, 2)}"
      ]
     },
     "execution_count": 180,
     "metadata": {},
     "output_type": "execute_result"
    }
   ],
   "source": [
    "meta_cnn.space()"
   ]
  },
  {
   "cell_type": "code",
   "execution_count": 179,
   "metadata": {},
   "outputs": [
    {
     "name": "stdout",
     "output_type": "stream",
     "text": [
      "Model: \"model_6\"\n",
      "__________________________________________________________________________________________________\n",
      "Layer (type)                    Output Shape         Param #     Connected to                     \n",
      "==================================================================================================\n",
      "input_7 (InputLayer)            [(None, 256, 4)]     0                                            \n",
      "__________________________________________________________________________________________________\n",
      "reshape_4 (Reshape)             (None, 256, 4, 1)    0           input_7[0][0]                    \n",
      "__________________________________________________________________________________________________\n",
      "conv2d_7 (Conv2D)               (None, 256, 4, 44)   352         reshape_4[0][0]                  \n",
      "__________________________________________________________________________________________________\n",
      "batch_normalization_25 (BatchNo (None, 256, 4, 44)   176         conv2d_7[0][0]                   \n",
      "__________________________________________________________________________________________________\n",
      "activation_31 (Activation)      (None, 256, 4, 44)   0           batch_normalization_25[0][0]     \n",
      "__________________________________________________________________________________________________\n",
      "conv2d_8 (Conv2D)               (None, 256, 4, 44)   13596       activation_31[0][0]              \n",
      "__________________________________________________________________________________________________\n",
      "batch_normalization_26 (BatchNo (None, 256, 4, 44)   176         conv2d_8[0][0]                   \n",
      "__________________________________________________________________________________________________\n",
      "activation_32 (Activation)      (None, 256, 4, 44)   0           batch_normalization_26[0][0]     \n",
      "__________________________________________________________________________________________________\n",
      "add_2 (Add)                     (None, 256, 4, 44)   0           activation_31[0][0]              \n",
      "                                                                 activation_32[0][0]              \n",
      "__________________________________________________________________________________________________\n",
      "conv2d_9 (Conv2D)               (None, 256, 4, 44)   13596       add_2[0][0]                      \n",
      "__________________________________________________________________________________________________\n",
      "batch_normalization_27 (BatchNo (None, 256, 4, 44)   176         conv2d_9[0][0]                   \n",
      "__________________________________________________________________________________________________\n",
      "activation_33 (Activation)      (None, 256, 4, 44)   0           batch_normalization_27[0][0]     \n",
      "__________________________________________________________________________________________________\n",
      "max_pooling2d_7 (MaxPooling2D)  (None, 64, 2, 44)    0           activation_33[0][0]              \n",
      "__________________________________________________________________________________________________\n",
      "dropout_21 (Dropout)            (None, 64, 2, 44)    0           max_pooling2d_7[0][0]            \n",
      "__________________________________________________________________________________________________\n",
      "conv2d_10 (Conv2D)              (None, 64, 2, 98)    60466       dropout_21[0][0]                 \n",
      "__________________________________________________________________________________________________\n",
      "batch_normalization_28 (BatchNo (None, 64, 2, 98)    392         conv2d_10[0][0]                  \n",
      "__________________________________________________________________________________________________\n",
      "activation_34 (Activation)      (None, 64, 2, 98)    0           batch_normalization_28[0][0]     \n",
      "__________________________________________________________________________________________________\n",
      "max_pooling2d_8 (MaxPooling2D)  (None, 13, 1, 98)    0           activation_34[0][0]              \n",
      "__________________________________________________________________________________________________\n",
      "dropout_22 (Dropout)            (None, 13, 1, 98)    0           max_pooling2d_8[0][0]            \n",
      "__________________________________________________________________________________________________\n",
      "flatten_4 (Flatten)             (None, 1274)         0           dropout_22[0][0]                 \n",
      "__________________________________________________________________________________________________\n",
      "dense_24 (Dense)                (None, 63)           80325       flatten_4[0][0]                  \n",
      "__________________________________________________________________________________________________\n",
      "batch_normalization_29 (BatchNo (None, 63)           252         dense_24[0][0]                   \n",
      "__________________________________________________________________________________________________\n",
      "activation_35 (Activation)      (None, 63)           0           batch_normalization_29[0][0]     \n",
      "__________________________________________________________________________________________________\n",
      "dense_25 (Dense)                (None, 63)           4032        activation_35[0][0]              \n",
      "__________________________________________________________________________________________________\n",
      "batch_normalization_30 (BatchNo (None, 63)           252         dense_25[0][0]                   \n",
      "__________________________________________________________________________________________________\n",
      "activation_36 (Activation)      (None, 63)           0           batch_normalization_30[0][0]     \n",
      "__________________________________________________________________________________________________\n",
      "add_3 (Add)                     (None, 63)           0           activation_35[0][0]              \n",
      "                                                                 activation_36[0][0]              \n",
      "__________________________________________________________________________________________________\n",
      "dense_26 (Dense)                (None, 63)           4032        add_3[0][0]                      \n",
      "__________________________________________________________________________________________________\n",
      "batch_normalization_31 (BatchNo (None, 63)           252         dense_26[0][0]                   \n",
      "__________________________________________________________________________________________________\n",
      "activation_37 (Activation)      (None, 63)           0           batch_normalization_31[0][0]     \n",
      "__________________________________________________________________________________________________\n",
      "dropout_23 (Dropout)            (None, 63)           0           activation_37[0][0]              \n",
      "__________________________________________________________________________________________________\n",
      "dense_27 (Dense)                (None, 38)           2432        dropout_23[0][0]                 \n",
      "__________________________________________________________________________________________________\n",
      "batch_normalization_32 (BatchNo (None, 38)           152         dense_27[0][0]                   \n",
      "__________________________________________________________________________________________________\n",
      "activation_38 (Activation)      (None, 38)           0           batch_normalization_32[0][0]     \n",
      "__________________________________________________________________________________________________\n",
      "dropout_24 (Dropout)            (None, 38)           0           activation_38[0][0]              \n",
      "__________________________________________________________________________________________________\n",
      "dense_28 (Dense)                (None, 1)            39          dropout_24[0][0]                 \n",
      "__________________________________________________________________________________________________\n",
      "activation_39 (Activation)      (None, 1)            0           dense_28[0][0]                   \n",
      "==================================================================================================\n",
      "Total params: 180,698\n",
      "Trainable params: 179,784\n",
      "Non-trainable params: 914\n",
      "__________________________________________________________________________________________________\n"
     ]
    }
   ],
   "source": [
    "meta_cnn.build(**random_space_sampling(meta_cnn.space())).summary()"
   ]
  },
  {
   "cell_type": "code",
   "execution_count": 10,
   "metadata": {},
   "outputs": [],
   "source": [
    "import pandas as pd"
   ]
  },
  {
   "cell_type": "code",
   "execution_count": 81,
   "metadata": {},
   "outputs": [],
   "source": [
    "import seaborn as sns\n",
    "import matplotlib.pyplot as plt"
   ]
  },
  {
   "cell_type": "code",
   "execution_count": 102,
   "metadata": {},
   "outputs": [],
   "source": [
    "report = pd.read_csv(\"complete_test_report.csv\")\n",
    "report_only_bayes = report[report.model.str.contains(\"bayes\")]\n",
    "useless_columns = [\"holdout_number\"]\n",
    "metrics = list(report_only_bayes.columns[16:-15])\n",
    "report_only_bayes = report_only_bayes.drop(columns=useless_columns)"
   ]
  },
  {
   "cell_type": "code",
   "execution_count": 130,
   "metadata": {
    "scrolled": false
   },
   "outputs": [
    {
     "data": {
      "text/plain": [
       "run_type                                                                      test\n",
       "task                                          active_enhancers_vs_active_promoters\n",
       "cell_line                                                                     A549\n",
       "DenseRectangularMetaLayer_0_dropout_rate                                   0.04211\n",
       "DenseRectangularMetaLayer_0_layers                                             0.0\n",
       "DenseRectangularMetaLayer_0_units                                             14.0\n",
       "DenseRectangularMetaLayer_1_dropout_rate                                  0.392073\n",
       "DenseRectangularMetaLayer_1_layers                                             1.0\n",
       "DenseRectangularMetaLayer_1_units                                             28.0\n",
       "model                                                                 bayesian_cnn\n",
       "Conv2DRectangularMetaLayer_0_dropout_rate                                 0.038352\n",
       "Conv2DRectangularMetaLayer_0_filters                                          14.0\n",
       "Conv2DRectangularMetaLayer_0_layers                                            2.0\n",
       "Conv2DRectangularMetaLayer_0_x_kernel_size                                     4.0\n",
       "Conv2DRectangularMetaLayer_0_x_pool_size                                       8.0\n",
       "Conv2DRectangularMetaLayer_0_y_kernel_size                                     2.0\n",
       "Conv2DRectangularMetaLayer_0_y_pool_size                                       1.0\n",
       "Conv2DRectangularMetaLayer_1_dropout_rate                                 0.455264\n",
       "Conv2DRectangularMetaLayer_1_filters                                          99.0\n",
       "Conv2DRectangularMetaLayer_1_layers                                            1.0\n",
       "Conv2DRectangularMetaLayer_1_x_kernel_size                                     3.0\n",
       "Conv2DRectangularMetaLayer_1_x_pool_size                                       5.0\n",
       "Conv2DRectangularMetaLayer_1_y_kernel_size                                     1.0\n",
       "Conv2DRectangularMetaLayer_1_y_pool_size                                       1.0\n",
       "Name: 724, dtype: object"
      ]
     },
     "metadata": {},
     "output_type": "display_data"
    },
    {
     "data": {
      "text/plain": [
       "run_type                                                                    test\n",
       "task                                        active_enhancers_vs_active_promoters\n",
       "cell_line                                                                   A549\n",
       "DenseRectangularMetaLayer_0_dropout_rate                                0.381745\n",
       "DenseRectangularMetaLayer_0_layers                                           2.0\n",
       "DenseRectangularMetaLayer_0_units                                          199.0\n",
       "DenseRectangularMetaLayer_1_dropout_rate                                0.268752\n",
       "DenseRectangularMetaLayer_1_layers                                           0.0\n",
       "DenseRectangularMetaLayer_1_units                                          142.0\n",
       "DenseRectangularMetaLayer_2_dropout_rate                                0.084957\n",
       "DenseRectangularMetaLayer_2_layers                                           2.0\n",
       "DenseRectangularMetaLayer_2_units                                          199.0\n",
       "DenseRectangularMetaLayer_3_dropout_rate                                  0.2781\n",
       "DenseRectangularMetaLayer_3_layers                                           1.0\n",
       "DenseRectangularMetaLayer_3_units                                          227.0\n",
       "model                                                              bayesian_ffnn\n",
       "Name: 46, dtype: object"
      ]
     },
     "metadata": {},
     "output_type": "display_data"
    },
    {
     "data": {
      "text/plain": [
       "run_type                                                                      test\n",
       "task                                          active_enhancers_vs_active_promoters\n",
       "cell_line                                                                  GM12878\n",
       "DenseRectangularMetaLayer_0_dropout_rate                                  0.499039\n",
       "DenseRectangularMetaLayer_0_layers                                             2.0\n",
       "DenseRectangularMetaLayer_0_units                                             42.0\n",
       "DenseRectangularMetaLayer_1_dropout_rate                                  0.061601\n",
       "DenseRectangularMetaLayer_1_layers                                             1.0\n",
       "DenseRectangularMetaLayer_1_units                                             28.0\n",
       "model                                                                 bayesian_cnn\n",
       "Conv2DRectangularMetaLayer_0_dropout_rate                                 0.436823\n",
       "Conv2DRectangularMetaLayer_0_filters                                         113.0\n",
       "Conv2DRectangularMetaLayer_0_layers                                            0.0\n",
       "Conv2DRectangularMetaLayer_0_x_kernel_size                                     8.0\n",
       "Conv2DRectangularMetaLayer_0_x_pool_size                                       4.0\n",
       "Conv2DRectangularMetaLayer_0_y_kernel_size                                     2.0\n",
       "Conv2DRectangularMetaLayer_0_y_pool_size                                       1.0\n",
       "Conv2DRectangularMetaLayer_1_dropout_rate                                 0.497378\n",
       "Conv2DRectangularMetaLayer_1_filters                                         128.0\n",
       "Conv2DRectangularMetaLayer_1_layers                                            1.0\n",
       "Conv2DRectangularMetaLayer_1_x_kernel_size                                     7.0\n",
       "Conv2DRectangularMetaLayer_1_x_pool_size                                       5.0\n",
       "Conv2DRectangularMetaLayer_1_y_kernel_size                                     2.0\n",
       "Conv2DRectangularMetaLayer_1_y_pool_size                                       1.0\n",
       "Name: 778, dtype: object"
      ]
     },
     "metadata": {},
     "output_type": "display_data"
    },
    {
     "data": {
      "text/plain": [
       "run_type                                                                    test\n",
       "task                                        active_enhancers_vs_active_promoters\n",
       "cell_line                                                                GM12878\n",
       "DenseRectangularMetaLayer_0_dropout_rate                                0.373668\n",
       "DenseRectangularMetaLayer_0_layers                                           0.0\n",
       "DenseRectangularMetaLayer_0_units                                          199.0\n",
       "DenseRectangularMetaLayer_1_dropout_rate                                0.269487\n",
       "DenseRectangularMetaLayer_1_layers                                           2.0\n",
       "DenseRectangularMetaLayer_1_units                                          199.0\n",
       "DenseRectangularMetaLayer_2_dropout_rate                                0.360565\n",
       "DenseRectangularMetaLayer_2_layers                                           3.0\n",
       "DenseRectangularMetaLayer_2_units                                          170.0\n",
       "DenseRectangularMetaLayer_3_dropout_rate                                0.254396\n",
       "DenseRectangularMetaLayer_3_layers                                           0.0\n",
       "DenseRectangularMetaLayer_3_units                                           85.0\n",
       "model                                                              bayesian_ffnn\n",
       "Name: 154, dtype: object"
      ]
     },
     "metadata": {},
     "output_type": "display_data"
    },
    {
     "data": {
      "text/plain": [
       "run_type                                                                      test\n",
       "task                                          active_enhancers_vs_active_promoters\n",
       "cell_line                                                                       H1\n",
       "DenseRectangularMetaLayer_0_dropout_rate                                  0.459415\n",
       "DenseRectangularMetaLayer_0_layers                                             2.0\n",
       "DenseRectangularMetaLayer_0_units                                             42.0\n",
       "DenseRectangularMetaLayer_1_dropout_rate                                  0.075437\n",
       "DenseRectangularMetaLayer_1_layers                                             1.0\n",
       "DenseRectangularMetaLayer_1_units                                             28.0\n",
       "model                                                                 bayesian_cnn\n",
       "Conv2DRectangularMetaLayer_0_dropout_rate                                 0.392455\n",
       "Conv2DRectangularMetaLayer_0_filters                                         113.0\n",
       "Conv2DRectangularMetaLayer_0_layers                                            0.0\n",
       "Conv2DRectangularMetaLayer_0_x_kernel_size                                     8.0\n",
       "Conv2DRectangularMetaLayer_0_x_pool_size                                       6.0\n",
       "Conv2DRectangularMetaLayer_0_y_kernel_size                                     2.0\n",
       "Conv2DRectangularMetaLayer_0_y_pool_size                                       1.0\n",
       "Conv2DRectangularMetaLayer_1_dropout_rate                                 0.499346\n",
       "Conv2DRectangularMetaLayer_1_filters                                         128.0\n",
       "Conv2DRectangularMetaLayer_1_layers                                            1.0\n",
       "Conv2DRectangularMetaLayer_1_x_kernel_size                                     7.0\n",
       "Conv2DRectangularMetaLayer_1_x_pool_size                                       5.0\n",
       "Conv2DRectangularMetaLayer_1_y_kernel_size                                     2.0\n",
       "Conv2DRectangularMetaLayer_1_y_pool_size                                       1.0\n",
       "Name: 824, dtype: object"
      ]
     },
     "metadata": {},
     "output_type": "display_data"
    },
    {
     "data": {
      "text/plain": [
       "run_type                                                                    test\n",
       "task                                        active_enhancers_vs_active_promoters\n",
       "cell_line                                                                     H1\n",
       "DenseRectangularMetaLayer_0_dropout_rate                                0.097806\n",
       "DenseRectangularMetaLayer_0_layers                                           0.0\n",
       "DenseRectangularMetaLayer_0_units                                           28.0\n",
       "DenseRectangularMetaLayer_1_dropout_rate                                0.273222\n",
       "DenseRectangularMetaLayer_1_layers                                           1.0\n",
       "DenseRectangularMetaLayer_1_units                                          227.0\n",
       "DenseRectangularMetaLayer_2_dropout_rate                                0.010159\n",
       "DenseRectangularMetaLayer_2_layers                                           1.0\n",
       "DenseRectangularMetaLayer_2_units                                          227.0\n",
       "DenseRectangularMetaLayer_3_dropout_rate                                0.063778\n",
       "DenseRectangularMetaLayer_3_layers                                           0.0\n",
       "DenseRectangularMetaLayer_3_units                                          113.0\n",
       "model                                                              bayesian_ffnn\n",
       "Name: 251, dtype: object"
      ]
     },
     "metadata": {},
     "output_type": "display_data"
    },
    {
     "data": {
      "text/plain": [
       "run_type                                                                      test\n",
       "task                                          active_enhancers_vs_active_promoters\n",
       "cell_line                                                                   HEK293\n",
       "DenseRectangularMetaLayer_0_dropout_rate                                  0.498287\n",
       "DenseRectangularMetaLayer_0_layers                                             1.0\n",
       "DenseRectangularMetaLayer_0_units                                             21.0\n",
       "DenseRectangularMetaLayer_1_dropout_rate                                  0.167867\n",
       "DenseRectangularMetaLayer_1_layers                                             1.0\n",
       "DenseRectangularMetaLayer_1_units                                             64.0\n",
       "model                                                                 bayesian_cnn\n",
       "Conv2DRectangularMetaLayer_0_dropout_rate                                 0.497793\n",
       "Conv2DRectangularMetaLayer_0_filters                                           0.0\n",
       "Conv2DRectangularMetaLayer_0_layers                                            0.0\n",
       "Conv2DRectangularMetaLayer_0_x_kernel_size                                     8.0\n",
       "Conv2DRectangularMetaLayer_0_x_pool_size                                       1.0\n",
       "Conv2DRectangularMetaLayer_0_y_kernel_size                                     2.0\n",
       "Conv2DRectangularMetaLayer_0_y_pool_size                                       1.0\n",
       "Conv2DRectangularMetaLayer_1_dropout_rate                                 0.499082\n",
       "Conv2DRectangularMetaLayer_1_filters                                          56.0\n",
       "Conv2DRectangularMetaLayer_1_layers                                            1.0\n",
       "Conv2DRectangularMetaLayer_1_x_kernel_size                                     7.0\n",
       "Conv2DRectangularMetaLayer_1_x_pool_size                                       5.0\n",
       "Conv2DRectangularMetaLayer_1_y_kernel_size                                     2.0\n",
       "Conv2DRectangularMetaLayer_1_y_pool_size                                       1.0\n",
       "Name: 871, dtype: object"
      ]
     },
     "metadata": {},
     "output_type": "display_data"
    },
    {
     "data": {
      "text/plain": [
       "run_type                                                                    test\n",
       "task                                        active_enhancers_vs_active_promoters\n",
       "cell_line                                                                 HEK293\n",
       "DenseRectangularMetaLayer_0_dropout_rate                                0.421208\n",
       "DenseRectangularMetaLayer_0_layers                                           1.0\n",
       "DenseRectangularMetaLayer_0_units                                          170.0\n",
       "DenseRectangularMetaLayer_1_dropout_rate                                 0.36652\n",
       "DenseRectangularMetaLayer_1_layers                                           2.0\n",
       "DenseRectangularMetaLayer_1_units                                            0.0\n",
       "DenseRectangularMetaLayer_2_dropout_rate                                0.025975\n",
       "DenseRectangularMetaLayer_2_layers                                           1.0\n",
       "DenseRectangularMetaLayer_2_units                                           56.0\n",
       "DenseRectangularMetaLayer_3_dropout_rate                                0.247835\n",
       "DenseRectangularMetaLayer_3_layers                                           0.0\n",
       "DenseRectangularMetaLayer_3_units                                          199.0\n",
       "model                                                              bayesian_ffnn\n",
       "Name: 359, dtype: object"
      ]
     },
     "metadata": {},
     "output_type": "display_data"
    },
    {
     "data": {
      "text/plain": [
       "run_type                                                                      test\n",
       "task                                          active_enhancers_vs_active_promoters\n",
       "cell_line                                                                    HepG2\n",
       "DenseRectangularMetaLayer_0_dropout_rate                                  0.222022\n",
       "DenseRectangularMetaLayer_0_layers                                             0.0\n",
       "DenseRectangularMetaLayer_0_units                                             28.0\n",
       "DenseRectangularMetaLayer_1_dropout_rate                                  0.131081\n",
       "DenseRectangularMetaLayer_1_layers                                             1.0\n",
       "DenseRectangularMetaLayer_1_units                                             42.0\n",
       "model                                                                 bayesian_cnn\n",
       "Conv2DRectangularMetaLayer_0_dropout_rate                                  0.26513\n",
       "Conv2DRectangularMetaLayer_0_filters                                          14.0\n",
       "Conv2DRectangularMetaLayer_0_layers                                            3.0\n",
       "Conv2DRectangularMetaLayer_0_x_kernel_size                                     4.0\n",
       "Conv2DRectangularMetaLayer_0_x_pool_size                                       8.0\n",
       "Conv2DRectangularMetaLayer_0_y_kernel_size                                     2.0\n",
       "Conv2DRectangularMetaLayer_0_y_pool_size                                       1.0\n",
       "Conv2DRectangularMetaLayer_1_dropout_rate                                 0.352552\n",
       "Conv2DRectangularMetaLayer_1_filters                                          28.0\n",
       "Conv2DRectangularMetaLayer_1_layers                                            0.0\n",
       "Conv2DRectangularMetaLayer_1_x_kernel_size                                     4.0\n",
       "Conv2DRectangularMetaLayer_1_x_pool_size                                       6.0\n",
       "Conv2DRectangularMetaLayer_1_y_kernel_size                                     1.0\n",
       "Conv2DRectangularMetaLayer_1_y_pool_size                                       2.0\n",
       "Name: 925, dtype: object"
      ]
     },
     "metadata": {},
     "output_type": "display_data"
    },
    {
     "data": {
      "text/plain": [
       "run_type                                                                    test\n",
       "task                                        active_enhancers_vs_active_promoters\n",
       "cell_line                                                                  HepG2\n",
       "DenseRectangularMetaLayer_0_dropout_rate                                0.497968\n",
       "DenseRectangularMetaLayer_0_layers                                           1.0\n",
       "DenseRectangularMetaLayer_0_units                                          227.0\n",
       "DenseRectangularMetaLayer_1_dropout_rate                                0.000798\n",
       "DenseRectangularMetaLayer_1_layers                                           0.0\n",
       "DenseRectangularMetaLayer_1_units                                          256.0\n",
       "DenseRectangularMetaLayer_2_dropout_rate                                0.126665\n",
       "DenseRectangularMetaLayer_2_layers                                           0.0\n",
       "DenseRectangularMetaLayer_2_units                                          199.0\n",
       "DenseRectangularMetaLayer_3_dropout_rate                                0.383971\n",
       "DenseRectangularMetaLayer_3_layers                                           1.0\n",
       "DenseRectangularMetaLayer_3_units                                          199.0\n",
       "model                                                              bayesian_ffnn\n",
       "Name: 445, dtype: object"
      ]
     },
     "metadata": {},
     "output_type": "display_data"
    },
    {
     "data": {
      "text/plain": [
       "run_type                                                                      test\n",
       "task                                          active_enhancers_vs_active_promoters\n",
       "cell_line                                                                     K562\n",
       "DenseRectangularMetaLayer_0_dropout_rate                                  0.263836\n",
       "DenseRectangularMetaLayer_0_layers                                             2.0\n",
       "DenseRectangularMetaLayer_0_units                                             14.0\n",
       "DenseRectangularMetaLayer_1_dropout_rate                                  0.438729\n",
       "DenseRectangularMetaLayer_1_layers                                             2.0\n",
       "DenseRectangularMetaLayer_1_units                                             56.0\n",
       "model                                                                 bayesian_cnn\n",
       "Conv2DRectangularMetaLayer_0_dropout_rate                                 0.424507\n",
       "Conv2DRectangularMetaLayer_0_filters                                          14.0\n",
       "Conv2DRectangularMetaLayer_0_layers                                            3.0\n",
       "Conv2DRectangularMetaLayer_0_x_kernel_size                                     4.0\n",
       "Conv2DRectangularMetaLayer_0_x_pool_size                                       8.0\n",
       "Conv2DRectangularMetaLayer_0_y_kernel_size                                     2.0\n",
       "Conv2DRectangularMetaLayer_0_y_pool_size                                       1.0\n",
       "Conv2DRectangularMetaLayer_1_dropout_rate                                 0.371955\n",
       "Conv2DRectangularMetaLayer_1_filters                                         128.0\n",
       "Conv2DRectangularMetaLayer_1_layers                                            0.0\n",
       "Conv2DRectangularMetaLayer_1_x_kernel_size                                     5.0\n",
       "Conv2DRectangularMetaLayer_1_x_pool_size                                       5.0\n",
       "Conv2DRectangularMetaLayer_1_y_kernel_size                                     1.0\n",
       "Conv2DRectangularMetaLayer_1_y_pool_size                                       1.0\n",
       "Name: 975, dtype: object"
      ]
     },
     "metadata": {},
     "output_type": "display_data"
    },
    {
     "data": {
      "text/plain": [
       "run_type                                                                    test\n",
       "task                                        active_enhancers_vs_active_promoters\n",
       "cell_line                                                                   K562\n",
       "DenseRectangularMetaLayer_0_dropout_rate                                0.405207\n",
       "DenseRectangularMetaLayer_0_layers                                           0.0\n",
       "DenseRectangularMetaLayer_0_units                                          199.0\n",
       "DenseRectangularMetaLayer_1_dropout_rate                                0.247491\n",
       "DenseRectangularMetaLayer_1_layers                                           1.0\n",
       "DenseRectangularMetaLayer_1_units                                          227.0\n",
       "DenseRectangularMetaLayer_2_dropout_rate                                0.102948\n",
       "DenseRectangularMetaLayer_2_layers                                           3.0\n",
       "DenseRectangularMetaLayer_2_units                                            0.0\n",
       "DenseRectangularMetaLayer_3_dropout_rate                                0.237677\n",
       "DenseRectangularMetaLayer_3_layers                                           2.0\n",
       "DenseRectangularMetaLayer_3_units                                           56.0\n",
       "model                                                              bayesian_ffnn\n",
       "Name: 545, dtype: object"
      ]
     },
     "metadata": {},
     "output_type": "display_data"
    },
    {
     "data": {
      "text/plain": [
       "run_type                                                                      test\n",
       "task                                          active_enhancers_vs_active_promoters\n",
       "cell_line                                                                    MCF-7\n",
       "DenseRectangularMetaLayer_0_dropout_rate                                  0.391451\n",
       "DenseRectangularMetaLayer_0_layers                                             2.0\n",
       "DenseRectangularMetaLayer_0_units                                             14.0\n",
       "DenseRectangularMetaLayer_1_dropout_rate                                  0.307437\n",
       "DenseRectangularMetaLayer_1_layers                                             3.0\n",
       "DenseRectangularMetaLayer_1_units                                             28.0\n",
       "model                                                                 bayesian_cnn\n",
       "Conv2DRectangularMetaLayer_0_dropout_rate                                 0.316873\n",
       "Conv2DRectangularMetaLayer_0_filters                                          56.0\n",
       "Conv2DRectangularMetaLayer_0_layers                                            0.0\n",
       "Conv2DRectangularMetaLayer_0_x_kernel_size                                     3.0\n",
       "Conv2DRectangularMetaLayer_0_x_pool_size                                       5.0\n",
       "Conv2DRectangularMetaLayer_0_y_kernel_size                                     2.0\n",
       "Conv2DRectangularMetaLayer_0_y_pool_size                                       2.0\n",
       "Conv2DRectangularMetaLayer_1_dropout_rate                                  0.09841\n",
       "Conv2DRectangularMetaLayer_1_filters                                         113.0\n",
       "Conv2DRectangularMetaLayer_1_layers                                            1.0\n",
       "Conv2DRectangularMetaLayer_1_x_kernel_size                                     8.0\n",
       "Conv2DRectangularMetaLayer_1_x_pool_size                                       8.0\n",
       "Conv2DRectangularMetaLayer_1_y_kernel_size                                     2.0\n",
       "Conv2DRectangularMetaLayer_1_y_pool_size                                       1.0\n",
       "Name: 1026, dtype: object"
      ]
     },
     "metadata": {},
     "output_type": "display_data"
    },
    {
     "data": {
      "text/plain": [
       "run_type                                                                    test\n",
       "task                                        active_enhancers_vs_active_promoters\n",
       "cell_line                                                                  MCF-7\n",
       "DenseRectangularMetaLayer_0_dropout_rate                                0.313734\n",
       "DenseRectangularMetaLayer_0_layers                                           1.0\n",
       "DenseRectangularMetaLayer_0_units                                           85.0\n",
       "DenseRectangularMetaLayer_1_dropout_rate                                0.187515\n",
       "DenseRectangularMetaLayer_1_layers                                           1.0\n",
       "DenseRectangularMetaLayer_1_units                                          256.0\n",
       "DenseRectangularMetaLayer_2_dropout_rate                                0.347663\n",
       "DenseRectangularMetaLayer_2_layers                                           1.0\n",
       "DenseRectangularMetaLayer_2_units                                           56.0\n",
       "DenseRectangularMetaLayer_3_dropout_rate                                0.340399\n",
       "DenseRectangularMetaLayer_3_layers                                           2.0\n",
       "DenseRectangularMetaLayer_3_units                                          113.0\n",
       "model                                                              bayesian_ffnn\n",
       "Name: 659, dtype: object"
      ]
     },
     "metadata": {},
     "output_type": "display_data"
    },
    {
     "data": {
      "text/plain": [
       "run_type                                                                        test\n",
       "task                                          active_enhancers_vs_inactive_enhancers\n",
       "cell_line                                                                       A549\n",
       "DenseRectangularMetaLayer_0_dropout_rate                                    0.200783\n",
       "DenseRectangularMetaLayer_0_layers                                               0.0\n",
       "DenseRectangularMetaLayer_0_units                                                7.0\n",
       "DenseRectangularMetaLayer_1_dropout_rate                                    0.446671\n",
       "DenseRectangularMetaLayer_1_layers                                               0.0\n",
       "DenseRectangularMetaLayer_1_units                                               35.0\n",
       "model                                                                   bayesian_cnn\n",
       "Conv2DRectangularMetaLayer_0_dropout_rate                                   0.437605\n",
       "Conv2DRectangularMetaLayer_0_filters                                            28.0\n",
       "Conv2DRectangularMetaLayer_0_layers                                              0.0\n",
       "Conv2DRectangularMetaLayer_0_x_kernel_size                                       8.0\n",
       "Conv2DRectangularMetaLayer_0_x_pool_size                                         8.0\n",
       "Conv2DRectangularMetaLayer_0_y_kernel_size                                       1.0\n",
       "Conv2DRectangularMetaLayer_0_y_pool_size                                         2.0\n",
       "Conv2DRectangularMetaLayer_1_dropout_rate                                    0.31064\n",
       "Conv2DRectangularMetaLayer_1_filters                                           128.0\n",
       "Conv2DRectangularMetaLayer_1_layers                                              1.0\n",
       "Conv2DRectangularMetaLayer_1_x_kernel_size                                       4.0\n",
       "Conv2DRectangularMetaLayer_1_x_pool_size                                         5.0\n",
       "Conv2DRectangularMetaLayer_1_y_kernel_size                                       2.0\n",
       "Conv2DRectangularMetaLayer_1_y_pool_size                                         1.0\n",
       "Name: 706, dtype: object"
      ]
     },
     "metadata": {},
     "output_type": "display_data"
    },
    {
     "data": {
      "text/plain": [
       "run_type                                                                      test\n",
       "task                                        active_enhancers_vs_inactive_enhancers\n",
       "cell_line                                                                     A549\n",
       "DenseRectangularMetaLayer_0_dropout_rate                                  0.301126\n",
       "DenseRectangularMetaLayer_0_layers                                             3.0\n",
       "DenseRectangularMetaLayer_0_units                                              0.0\n",
       "DenseRectangularMetaLayer_1_dropout_rate                                  0.179395\n",
       "DenseRectangularMetaLayer_1_layers                                             2.0\n",
       "DenseRectangularMetaLayer_1_units                                             85.0\n",
       "DenseRectangularMetaLayer_2_dropout_rate                                  0.180074\n",
       "DenseRectangularMetaLayer_2_layers                                             2.0\n",
       "DenseRectangularMetaLayer_2_units                                              0.0\n",
       "DenseRectangularMetaLayer_3_dropout_rate                                  0.477807\n",
       "DenseRectangularMetaLayer_3_layers                                             1.0\n",
       "DenseRectangularMetaLayer_3_units                                              0.0\n",
       "model                                                                bayesian_ffnn\n",
       "Name: 10, dtype: object"
      ]
     },
     "metadata": {},
     "output_type": "display_data"
    },
    {
     "data": {
      "text/plain": [
       "run_type                                                                        test\n",
       "task                                          active_enhancers_vs_inactive_enhancers\n",
       "cell_line                                                                    GM12878\n",
       "DenseRectangularMetaLayer_0_dropout_rate                                    0.052981\n",
       "DenseRectangularMetaLayer_0_layers                                               0.0\n",
       "DenseRectangularMetaLayer_0_units                                               21.0\n",
       "DenseRectangularMetaLayer_1_dropout_rate                                    0.463653\n",
       "DenseRectangularMetaLayer_1_layers                                               0.0\n",
       "DenseRectangularMetaLayer_1_units                                                0.0\n",
       "model                                                                   bayesian_cnn\n",
       "Conv2DRectangularMetaLayer_0_dropout_rate                                   0.256971\n",
       "Conv2DRectangularMetaLayer_0_filters                                           113.0\n",
       "Conv2DRectangularMetaLayer_0_layers                                              0.0\n",
       "Conv2DRectangularMetaLayer_0_x_kernel_size                                       6.0\n",
       "Conv2DRectangularMetaLayer_0_x_pool_size                                         5.0\n",
       "Conv2DRectangularMetaLayer_0_y_kernel_size                                       2.0\n",
       "Conv2DRectangularMetaLayer_0_y_pool_size                                         1.0\n",
       "Conv2DRectangularMetaLayer_1_dropout_rate                                   0.102003\n",
       "Conv2DRectangularMetaLayer_1_filters                                            42.0\n",
       "Conv2DRectangularMetaLayer_1_layers                                              1.0\n",
       "Conv2DRectangularMetaLayer_1_x_kernel_size                                       5.0\n",
       "Conv2DRectangularMetaLayer_1_x_pool_size                                         5.0\n",
       "Conv2DRectangularMetaLayer_1_y_kernel_size                                       2.0\n",
       "Conv2DRectangularMetaLayer_1_y_pool_size                                         1.0\n",
       "Name: 752, dtype: object"
      ]
     },
     "metadata": {},
     "output_type": "display_data"
    },
    {
     "data": {
      "text/plain": [
       "run_type                                                                      test\n",
       "task                                        active_enhancers_vs_inactive_enhancers\n",
       "cell_line                                                                  GM12878\n",
       "DenseRectangularMetaLayer_0_dropout_rate                                  0.316662\n",
       "DenseRectangularMetaLayer_0_layers                                             1.0\n",
       "DenseRectangularMetaLayer_0_units                                            227.0\n",
       "DenseRectangularMetaLayer_1_dropout_rate                                  0.220702\n",
       "DenseRectangularMetaLayer_1_layers                                             0.0\n",
       "DenseRectangularMetaLayer_1_units                                             56.0\n",
       "DenseRectangularMetaLayer_2_dropout_rate                                  0.076472\n",
       "DenseRectangularMetaLayer_2_layers                                             2.0\n",
       "DenseRectangularMetaLayer_2_units                                            170.0\n",
       "DenseRectangularMetaLayer_3_dropout_rate                                  0.431022\n",
       "DenseRectangularMetaLayer_3_layers                                             2.0\n",
       "DenseRectangularMetaLayer_3_units                                             56.0\n",
       "model                                                                bayesian_ffnn\n",
       "Name: 119, dtype: object"
      ]
     },
     "metadata": {},
     "output_type": "display_data"
    },
    {
     "data": {
      "text/plain": [
       "run_type                                                                        test\n",
       "task                                          active_enhancers_vs_inactive_enhancers\n",
       "cell_line                                                                         H1\n",
       "DenseRectangularMetaLayer_0_dropout_rate                                    0.030957\n",
       "DenseRectangularMetaLayer_0_layers                                               0.0\n",
       "DenseRectangularMetaLayer_0_units                                               56.0\n",
       "DenseRectangularMetaLayer_1_dropout_rate                                    0.289422\n",
       "DenseRectangularMetaLayer_1_layers                                               0.0\n",
       "DenseRectangularMetaLayer_1_units                                               14.0\n",
       "model                                                                   bayesian_cnn\n",
       "Conv2DRectangularMetaLayer_0_dropout_rate                                   0.257019\n",
       "Conv2DRectangularMetaLayer_0_filters                                            42.0\n",
       "Conv2DRectangularMetaLayer_0_layers                                              1.0\n",
       "Conv2DRectangularMetaLayer_0_x_kernel_size                                       3.0\n",
       "Conv2DRectangularMetaLayer_0_x_pool_size                                         1.0\n",
       "Conv2DRectangularMetaLayer_0_y_kernel_size                                       2.0\n",
       "Conv2DRectangularMetaLayer_0_y_pool_size                                         1.0\n",
       "Conv2DRectangularMetaLayer_1_dropout_rate                                   0.119962\n",
       "Conv2DRectangularMetaLayer_1_filters                                            28.0\n",
       "Conv2DRectangularMetaLayer_1_layers                                              1.0\n",
       "Conv2DRectangularMetaLayer_1_x_kernel_size                                       5.0\n",
       "Conv2DRectangularMetaLayer_1_x_pool_size                                         5.0\n",
       "Conv2DRectangularMetaLayer_1_y_kernel_size                                       2.0\n",
       "Conv2DRectangularMetaLayer_1_y_pool_size                                         1.0\n",
       "Name: 803, dtype: object"
      ]
     },
     "metadata": {},
     "output_type": "display_data"
    },
    {
     "data": {
      "text/plain": [
       "run_type                                                                      test\n",
       "task                                        active_enhancers_vs_inactive_enhancers\n",
       "cell_line                                                                       H1\n",
       "DenseRectangularMetaLayer_0_dropout_rate                                  0.306419\n",
       "DenseRectangularMetaLayer_0_layers                                             0.0\n",
       "DenseRectangularMetaLayer_0_units                                             56.0\n",
       "DenseRectangularMetaLayer_1_dropout_rate                                   0.19866\n",
       "DenseRectangularMetaLayer_1_layers                                             2.0\n",
       "DenseRectangularMetaLayer_1_units                                            170.0\n",
       "DenseRectangularMetaLayer_2_dropout_rate                                   0.26915\n",
       "DenseRectangularMetaLayer_2_layers                                             0.0\n",
       "DenseRectangularMetaLayer_2_units                                            113.0\n",
       "DenseRectangularMetaLayer_3_dropout_rate                                  0.424516\n",
       "DenseRectangularMetaLayer_3_layers                                             1.0\n",
       "DenseRectangularMetaLayer_3_units                                            227.0\n",
       "model                                                                bayesian_ffnn\n",
       "Name: 210, dtype: object"
      ]
     },
     "metadata": {},
     "output_type": "display_data"
    },
    {
     "data": {
      "text/plain": [
       "run_type                                                                        test\n",
       "task                                          active_enhancers_vs_inactive_enhancers\n",
       "cell_line                                                                     HEK293\n",
       "DenseRectangularMetaLayer_0_dropout_rate                                     0.23305\n",
       "DenseRectangularMetaLayer_0_layers                                               2.0\n",
       "DenseRectangularMetaLayer_0_units                                                0.0\n",
       "DenseRectangularMetaLayer_1_dropout_rate                                    0.064374\n",
       "DenseRectangularMetaLayer_1_layers                                               0.0\n",
       "DenseRectangularMetaLayer_1_units                                               35.0\n",
       "model                                                                   bayesian_cnn\n",
       "Conv2DRectangularMetaLayer_0_dropout_rate                                   0.104709\n",
       "Conv2DRectangularMetaLayer_0_filters                                           113.0\n",
       "Conv2DRectangularMetaLayer_0_layers                                              1.0\n",
       "Conv2DRectangularMetaLayer_0_x_kernel_size                                       8.0\n",
       "Conv2DRectangularMetaLayer_0_x_pool_size                                         7.0\n",
       "Conv2DRectangularMetaLayer_0_y_kernel_size                                       2.0\n",
       "Conv2DRectangularMetaLayer_0_y_pool_size                                         2.0\n",
       "Conv2DRectangularMetaLayer_1_dropout_rate                                   0.440499\n",
       "Conv2DRectangularMetaLayer_1_filters                                            42.0\n",
       "Conv2DRectangularMetaLayer_1_layers                                              1.0\n",
       "Conv2DRectangularMetaLayer_1_x_kernel_size                                       6.0\n",
       "Conv2DRectangularMetaLayer_1_x_pool_size                                         3.0\n",
       "Conv2DRectangularMetaLayer_1_y_kernel_size                                       2.0\n",
       "Conv2DRectangularMetaLayer_1_y_pool_size                                         2.0\n",
       "Name: 851, dtype: object"
      ]
     },
     "metadata": {},
     "output_type": "display_data"
    },
    {
     "data": {
      "text/plain": [
       "run_type                                                                      test\n",
       "task                                        active_enhancers_vs_inactive_enhancers\n",
       "cell_line                                                                   HEK293\n",
       "DenseRectangularMetaLayer_0_dropout_rate                                  0.083044\n",
       "DenseRectangularMetaLayer_0_layers                                             2.0\n",
       "DenseRectangularMetaLayer_0_units                                              0.0\n",
       "DenseRectangularMetaLayer_1_dropout_rate                                  0.162321\n",
       "DenseRectangularMetaLayer_1_layers                                             2.0\n",
       "DenseRectangularMetaLayer_1_units                                              0.0\n",
       "DenseRectangularMetaLayer_2_dropout_rate                                  0.160548\n",
       "DenseRectangularMetaLayer_2_layers                                             2.0\n",
       "DenseRectangularMetaLayer_2_units                                            113.0\n",
       "DenseRectangularMetaLayer_3_dropout_rate                                  0.280422\n",
       "DenseRectangularMetaLayer_3_layers                                             0.0\n",
       "DenseRectangularMetaLayer_3_units                                            199.0\n",
       "model                                                                bayesian_ffnn\n",
       "Name: 310, dtype: object"
      ]
     },
     "metadata": {},
     "output_type": "display_data"
    },
    {
     "data": {
      "text/plain": [
       "run_type                                                                        test\n",
       "task                                          active_enhancers_vs_inactive_enhancers\n",
       "cell_line                                                                      HepG2\n",
       "DenseRectangularMetaLayer_0_dropout_rate                                    0.344924\n",
       "DenseRectangularMetaLayer_0_layers                                               0.0\n",
       "DenseRectangularMetaLayer_0_units                                               56.0\n",
       "DenseRectangularMetaLayer_1_dropout_rate                                    0.476003\n",
       "DenseRectangularMetaLayer_1_layers                                               0.0\n",
       "DenseRectangularMetaLayer_1_units                                               14.0\n",
       "model                                                                   bayesian_cnn\n",
       "Conv2DRectangularMetaLayer_0_dropout_rate                                    0.16945\n",
       "Conv2DRectangularMetaLayer_0_filters                                            28.0\n",
       "Conv2DRectangularMetaLayer_0_layers                                              0.0\n",
       "Conv2DRectangularMetaLayer_0_x_kernel_size                                       8.0\n",
       "Conv2DRectangularMetaLayer_0_x_pool_size                                         6.0\n",
       "Conv2DRectangularMetaLayer_0_y_kernel_size                                       1.0\n",
       "Conv2DRectangularMetaLayer_0_y_pool_size                                         2.0\n",
       "Conv2DRectangularMetaLayer_1_dropout_rate                                   0.189227\n",
       "Conv2DRectangularMetaLayer_1_filters                                            42.0\n",
       "Conv2DRectangularMetaLayer_1_layers                                              1.0\n",
       "Conv2DRectangularMetaLayer_1_x_kernel_size                                       6.0\n",
       "Conv2DRectangularMetaLayer_1_x_pool_size                                         7.0\n",
       "Conv2DRectangularMetaLayer_1_y_kernel_size                                       1.0\n",
       "Conv2DRectangularMetaLayer_1_y_pool_size                                         1.0\n",
       "Name: 900, dtype: object"
      ]
     },
     "metadata": {},
     "output_type": "display_data"
    },
    {
     "data": {
      "text/plain": [
       "run_type                                                                      test\n",
       "task                                        active_enhancers_vs_inactive_enhancers\n",
       "cell_line                                                                    HepG2\n",
       "DenseRectangularMetaLayer_0_dropout_rate                                  0.190117\n",
       "DenseRectangularMetaLayer_0_layers                                             2.0\n",
       "DenseRectangularMetaLayer_0_units                                            227.0\n",
       "DenseRectangularMetaLayer_1_dropout_rate                                  0.413884\n",
       "DenseRectangularMetaLayer_1_layers                                             0.0\n",
       "DenseRectangularMetaLayer_1_units                                            113.0\n",
       "DenseRectangularMetaLayer_2_dropout_rate                                  0.499799\n",
       "DenseRectangularMetaLayer_2_layers                                             1.0\n",
       "DenseRectangularMetaLayer_2_units                                              0.0\n",
       "DenseRectangularMetaLayer_3_dropout_rate                                  0.171787\n",
       "DenseRectangularMetaLayer_3_layers                                             1.0\n",
       "DenseRectangularMetaLayer_3_units                                              0.0\n",
       "model                                                                bayesian_ffnn\n",
       "Name: 402, dtype: object"
      ]
     },
     "metadata": {},
     "output_type": "display_data"
    },
    {
     "data": {
      "text/plain": [
       "run_type                                                                        test\n",
       "task                                          active_enhancers_vs_inactive_enhancers\n",
       "cell_line                                                                       K562\n",
       "DenseRectangularMetaLayer_0_dropout_rate                                    0.298883\n",
       "DenseRectangularMetaLayer_0_layers                                               0.0\n",
       "DenseRectangularMetaLayer_0_units                                               21.0\n",
       "DenseRectangularMetaLayer_1_dropout_rate                                    0.361697\n",
       "DenseRectangularMetaLayer_1_layers                                               1.0\n",
       "DenseRectangularMetaLayer_1_units                                                0.0\n",
       "model                                                                   bayesian_cnn\n",
       "Conv2DRectangularMetaLayer_0_dropout_rate                                   0.041108\n",
       "Conv2DRectangularMetaLayer_0_filters                                            85.0\n",
       "Conv2DRectangularMetaLayer_0_layers                                              2.0\n",
       "Conv2DRectangularMetaLayer_0_x_kernel_size                                       5.0\n",
       "Conv2DRectangularMetaLayer_0_x_pool_size                                         6.0\n",
       "Conv2DRectangularMetaLayer_0_y_kernel_size                                       2.0\n",
       "Conv2DRectangularMetaLayer_0_y_pool_size                                         1.0\n",
       "Conv2DRectangularMetaLayer_1_dropout_rate                                   0.106759\n",
       "Conv2DRectangularMetaLayer_1_filters                                            14.0\n",
       "Conv2DRectangularMetaLayer_1_layers                                              0.0\n",
       "Conv2DRectangularMetaLayer_1_x_kernel_size                                       5.0\n",
       "Conv2DRectangularMetaLayer_1_x_pool_size                                         4.0\n",
       "Conv2DRectangularMetaLayer_1_y_kernel_size                                       2.0\n",
       "Conv2DRectangularMetaLayer_1_y_pool_size                                         1.0\n",
       "Name: 959, dtype: object"
      ]
     },
     "metadata": {},
     "output_type": "display_data"
    },
    {
     "data": {
      "text/plain": [
       "run_type                                                                      test\n",
       "task                                        active_enhancers_vs_inactive_enhancers\n",
       "cell_line                                                                     K562\n",
       "DenseRectangularMetaLayer_0_dropout_rate                                  0.473882\n",
       "DenseRectangularMetaLayer_0_layers                                             1.0\n",
       "DenseRectangularMetaLayer_0_units                                            227.0\n",
       "DenseRectangularMetaLayer_1_dropout_rate                                  0.057582\n",
       "DenseRectangularMetaLayer_1_layers                                             1.0\n",
       "DenseRectangularMetaLayer_1_units                                             28.0\n",
       "DenseRectangularMetaLayer_2_dropout_rate                                  0.180791\n",
       "DenseRectangularMetaLayer_2_layers                                             2.0\n",
       "DenseRectangularMetaLayer_2_units                                            227.0\n",
       "DenseRectangularMetaLayer_3_dropout_rate                                  0.447526\n",
       "DenseRectangularMetaLayer_3_layers                                             0.0\n",
       "DenseRectangularMetaLayer_3_units                                             56.0\n",
       "model                                                                bayesian_ffnn\n",
       "Name: 501, dtype: object"
      ]
     },
     "metadata": {},
     "output_type": "display_data"
    },
    {
     "data": {
      "text/plain": [
       "run_type                                                                        test\n",
       "task                                          active_enhancers_vs_inactive_enhancers\n",
       "cell_line                                                                      MCF-7\n",
       "DenseRectangularMetaLayer_0_dropout_rate                                    0.378088\n",
       "DenseRectangularMetaLayer_0_layers                                               2.0\n",
       "DenseRectangularMetaLayer_0_units                                                0.0\n",
       "DenseRectangularMetaLayer_1_dropout_rate                                    0.444248\n",
       "DenseRectangularMetaLayer_1_layers                                               0.0\n",
       "DenseRectangularMetaLayer_1_units                                               14.0\n",
       "model                                                                   bayesian_cnn\n",
       "Conv2DRectangularMetaLayer_0_dropout_rate                                   0.281203\n",
       "Conv2DRectangularMetaLayer_0_filters                                           113.0\n",
       "Conv2DRectangularMetaLayer_0_layers                                              2.0\n",
       "Conv2DRectangularMetaLayer_0_x_kernel_size                                       5.0\n",
       "Conv2DRectangularMetaLayer_0_x_pool_size                                         6.0\n",
       "Conv2DRectangularMetaLayer_0_y_kernel_size                                       2.0\n",
       "Conv2DRectangularMetaLayer_0_y_pool_size                                         1.0\n",
       "Conv2DRectangularMetaLayer_1_dropout_rate                                   0.402669\n",
       "Conv2DRectangularMetaLayer_1_filters                                            71.0\n",
       "Conv2DRectangularMetaLayer_1_layers                                              2.0\n",
       "Conv2DRectangularMetaLayer_1_x_kernel_size                                       8.0\n",
       "Conv2DRectangularMetaLayer_1_x_pool_size                                         3.0\n",
       "Conv2DRectangularMetaLayer_1_y_kernel_size                                       1.0\n",
       "Conv2DRectangularMetaLayer_1_y_pool_size                                         1.0\n",
       "Name: 1005, dtype: object"
      ]
     },
     "metadata": {},
     "output_type": "display_data"
    },
    {
     "data": {
      "text/plain": [
       "run_type                                                                      test\n",
       "task                                        active_enhancers_vs_inactive_enhancers\n",
       "cell_line                                                                    MCF-7\n",
       "DenseRectangularMetaLayer_0_dropout_rate                                  0.181731\n",
       "DenseRectangularMetaLayer_0_layers                                             2.0\n",
       "DenseRectangularMetaLayer_0_units                                            256.0\n",
       "DenseRectangularMetaLayer_1_dropout_rate                                  0.411138\n",
       "DenseRectangularMetaLayer_1_layers                                             1.0\n",
       "DenseRectangularMetaLayer_1_units                                             56.0\n",
       "DenseRectangularMetaLayer_2_dropout_rate                                  0.046493\n",
       "DenseRectangularMetaLayer_2_layers                                             1.0\n",
       "DenseRectangularMetaLayer_2_units                                            142.0\n",
       "DenseRectangularMetaLayer_3_dropout_rate                                  0.245251\n",
       "DenseRectangularMetaLayer_3_layers                                             1.0\n",
       "DenseRectangularMetaLayer_3_units                                             56.0\n",
       "model                                                                bayesian_ffnn\n",
       "Name: 608, dtype: object"
      ]
     },
     "metadata": {},
     "output_type": "display_data"
    },
    {
     "data": {
      "text/plain": [
       "run_type                                                                        test\n",
       "task                                          active_promoters_vs_inactive_promoters\n",
       "cell_line                                                                       A549\n",
       "DenseRectangularMetaLayer_0_dropout_rate                                    0.148952\n",
       "DenseRectangularMetaLayer_0_layers                                               1.0\n",
       "DenseRectangularMetaLayer_0_units                                               28.0\n",
       "DenseRectangularMetaLayer_1_dropout_rate                                    0.345574\n",
       "DenseRectangularMetaLayer_1_layers                                               0.0\n",
       "DenseRectangularMetaLayer_1_units                                               56.0\n",
       "model                                                                   bayesian_cnn\n",
       "Conv2DRectangularMetaLayer_0_dropout_rate                                   0.310251\n",
       "Conv2DRectangularMetaLayer_0_filters                                           128.0\n",
       "Conv2DRectangularMetaLayer_0_layers                                              1.0\n",
       "Conv2DRectangularMetaLayer_0_x_kernel_size                                       5.0\n",
       "Conv2DRectangularMetaLayer_0_x_pool_size                                         3.0\n",
       "Conv2DRectangularMetaLayer_0_y_kernel_size                                       2.0\n",
       "Conv2DRectangularMetaLayer_0_y_pool_size                                         1.0\n",
       "Conv2DRectangularMetaLayer_1_dropout_rate                                   0.080593\n",
       "Conv2DRectangularMetaLayer_1_filters                                             0.0\n",
       "Conv2DRectangularMetaLayer_1_layers                                              0.0\n",
       "Conv2DRectangularMetaLayer_1_x_kernel_size                                       8.0\n",
       "Conv2DRectangularMetaLayer_1_x_pool_size                                         5.0\n",
       "Conv2DRectangularMetaLayer_1_y_kernel_size                                       1.0\n",
       "Conv2DRectangularMetaLayer_1_y_pool_size                                         2.0\n",
       "Name: 714, dtype: object"
      ]
     },
     "metadata": {},
     "output_type": "display_data"
    },
    {
     "data": {
      "text/plain": [
       "run_type                                                                      test\n",
       "task                                        active_promoters_vs_inactive_promoters\n",
       "cell_line                                                                     A549\n",
       "DenseRectangularMetaLayer_0_dropout_rate                                  0.190204\n",
       "DenseRectangularMetaLayer_0_layers                                             2.0\n",
       "DenseRectangularMetaLayer_0_units                                            113.0\n",
       "DenseRectangularMetaLayer_1_dropout_rate                                  0.227852\n",
       "DenseRectangularMetaLayer_1_layers                                             0.0\n",
       "DenseRectangularMetaLayer_1_units                                             85.0\n",
       "DenseRectangularMetaLayer_2_dropout_rate                                  0.110008\n",
       "DenseRectangularMetaLayer_2_layers                                             2.0\n",
       "DenseRectangularMetaLayer_2_units                                              0.0\n",
       "DenseRectangularMetaLayer_3_dropout_rate                                  0.303511\n",
       "DenseRectangularMetaLayer_3_layers                                             0.0\n",
       "DenseRectangularMetaLayer_3_units                                              0.0\n",
       "model                                                                bayesian_ffnn\n",
       "Name: 21, dtype: object"
      ]
     },
     "metadata": {},
     "output_type": "display_data"
    },
    {
     "data": {
      "text/plain": [
       "run_type                                                                        test\n",
       "task                                          active_promoters_vs_inactive_promoters\n",
       "cell_line                                                                    GM12878\n",
       "DenseRectangularMetaLayer_0_dropout_rate                                    0.112904\n",
       "DenseRectangularMetaLayer_0_layers                                               2.0\n",
       "DenseRectangularMetaLayer_0_units                                               35.0\n",
       "DenseRectangularMetaLayer_1_dropout_rate                                    0.430596\n",
       "DenseRectangularMetaLayer_1_layers                                               1.0\n",
       "DenseRectangularMetaLayer_1_units                                               21.0\n",
       "model                                                                   bayesian_cnn\n",
       "Conv2DRectangularMetaLayer_0_dropout_rate                                   0.270785\n",
       "Conv2DRectangularMetaLayer_0_filters                                            42.0\n",
       "Conv2DRectangularMetaLayer_0_layers                                              2.0\n",
       "Conv2DRectangularMetaLayer_0_x_kernel_size                                       6.0\n",
       "Conv2DRectangularMetaLayer_0_x_pool_size                                         5.0\n",
       "Conv2DRectangularMetaLayer_0_y_kernel_size                                       2.0\n",
       "Conv2DRectangularMetaLayer_0_y_pool_size                                         1.0\n",
       "Conv2DRectangularMetaLayer_1_dropout_rate                                   0.051049\n",
       "Conv2DRectangularMetaLayer_1_filters                                            99.0\n",
       "Conv2DRectangularMetaLayer_1_layers                                              0.0\n",
       "Conv2DRectangularMetaLayer_1_x_kernel_size                                       2.0\n",
       "Conv2DRectangularMetaLayer_1_x_pool_size                                         5.0\n",
       "Conv2DRectangularMetaLayer_1_y_kernel_size                                       2.0\n",
       "Conv2DRectangularMetaLayer_1_y_pool_size                                         1.0\n",
       "Name: 763, dtype: object"
      ]
     },
     "metadata": {},
     "output_type": "display_data"
    },
    {
     "data": {
      "text/plain": [
       "run_type                                                                      test\n",
       "task                                        active_promoters_vs_inactive_promoters\n",
       "cell_line                                                                  GM12878\n",
       "DenseRectangularMetaLayer_0_dropout_rate                                  0.152893\n",
       "DenseRectangularMetaLayer_0_layers                                             0.0\n",
       "DenseRectangularMetaLayer_0_units                                            142.0\n",
       "DenseRectangularMetaLayer_1_dropout_rate                                  0.171739\n",
       "DenseRectangularMetaLayer_1_layers                                             3.0\n",
       "DenseRectangularMetaLayer_1_units                                            256.0\n",
       "DenseRectangularMetaLayer_2_dropout_rate                                  0.387417\n",
       "DenseRectangularMetaLayer_2_layers                                             0.0\n",
       "DenseRectangularMetaLayer_2_units                                            256.0\n",
       "DenseRectangularMetaLayer_3_dropout_rate                                  0.360276\n",
       "DenseRectangularMetaLayer_3_layers                                             0.0\n",
       "DenseRectangularMetaLayer_3_units                                            142.0\n",
       "model                                                                bayesian_ffnn\n",
       "Name: 135, dtype: object"
      ]
     },
     "metadata": {},
     "output_type": "display_data"
    },
    {
     "data": {
      "text/plain": [
       "run_type                                                                        test\n",
       "task                                          active_promoters_vs_inactive_promoters\n",
       "cell_line                                                                         H1\n",
       "DenseRectangularMetaLayer_0_dropout_rate                                    0.350583\n",
       "DenseRectangularMetaLayer_0_layers                                               0.0\n",
       "DenseRectangularMetaLayer_0_units                                                0.0\n",
       "DenseRectangularMetaLayer_1_dropout_rate                                    0.186612\n",
       "DenseRectangularMetaLayer_1_layers                                               1.0\n",
       "DenseRectangularMetaLayer_1_units                                               14.0\n",
       "model                                                                   bayesian_cnn\n",
       "Conv2DRectangularMetaLayer_0_dropout_rate                                   0.401993\n",
       "Conv2DRectangularMetaLayer_0_filters                                            99.0\n",
       "Conv2DRectangularMetaLayer_0_layers                                              0.0\n",
       "Conv2DRectangularMetaLayer_0_x_kernel_size                                       8.0\n",
       "Conv2DRectangularMetaLayer_0_x_pool_size                                         4.0\n",
       "Conv2DRectangularMetaLayer_0_y_kernel_size                                       1.0\n",
       "Conv2DRectangularMetaLayer_0_y_pool_size                                         1.0\n",
       "Conv2DRectangularMetaLayer_1_dropout_rate                                   0.198846\n",
       "Conv2DRectangularMetaLayer_1_filters                                           128.0\n",
       "Conv2DRectangularMetaLayer_1_layers                                              1.0\n",
       "Conv2DRectangularMetaLayer_1_x_kernel_size                                       7.0\n",
       "Conv2DRectangularMetaLayer_1_x_pool_size                                         5.0\n",
       "Conv2DRectangularMetaLayer_1_y_kernel_size                                       2.0\n",
       "Conv2DRectangularMetaLayer_1_y_pool_size                                         1.0\n",
       "Name: 818, dtype: object"
      ]
     },
     "metadata": {},
     "output_type": "display_data"
    },
    {
     "data": {
      "text/plain": [
       "run_type                                                                      test\n",
       "task                                        active_promoters_vs_inactive_promoters\n",
       "cell_line                                                                       H1\n",
       "DenseRectangularMetaLayer_0_dropout_rate                                  0.266074\n",
       "DenseRectangularMetaLayer_0_layers                                             1.0\n",
       "DenseRectangularMetaLayer_0_units                                            256.0\n",
       "DenseRectangularMetaLayer_1_dropout_rate                                  0.143263\n",
       "DenseRectangularMetaLayer_1_layers                                             0.0\n",
       "DenseRectangularMetaLayer_1_units                                            142.0\n",
       "DenseRectangularMetaLayer_2_dropout_rate                                  0.007563\n",
       "DenseRectangularMetaLayer_2_layers                                             1.0\n",
       "DenseRectangularMetaLayer_2_units                                            113.0\n",
       "DenseRectangularMetaLayer_3_dropout_rate                                  0.172043\n",
       "DenseRectangularMetaLayer_3_layers                                             2.0\n",
       "DenseRectangularMetaLayer_3_units                                             56.0\n",
       "model                                                                bayesian_ffnn\n",
       "Name: 236, dtype: object"
      ]
     },
     "metadata": {},
     "output_type": "display_data"
    },
    {
     "data": {
      "text/plain": [
       "run_type                                                                        test\n",
       "task                                          active_promoters_vs_inactive_promoters\n",
       "cell_line                                                                     HEK293\n",
       "DenseRectangularMetaLayer_0_dropout_rate                                    0.154625\n",
       "DenseRectangularMetaLayer_0_layers                                               3.0\n",
       "DenseRectangularMetaLayer_0_units                                               28.0\n",
       "DenseRectangularMetaLayer_1_dropout_rate                                    0.011849\n",
       "DenseRectangularMetaLayer_1_layers                                               3.0\n",
       "DenseRectangularMetaLayer_1_units                                               42.0\n",
       "model                                                                   bayesian_cnn\n",
       "Conv2DRectangularMetaLayer_0_dropout_rate                                    0.29528\n",
       "Conv2DRectangularMetaLayer_0_filters                                           113.0\n",
       "Conv2DRectangularMetaLayer_0_layers                                              0.0\n",
       "Conv2DRectangularMetaLayer_0_x_kernel_size                                       8.0\n",
       "Conv2DRectangularMetaLayer_0_x_pool_size                                         5.0\n",
       "Conv2DRectangularMetaLayer_0_y_kernel_size                                       1.0\n",
       "Conv2DRectangularMetaLayer_0_y_pool_size                                         2.0\n",
       "Conv2DRectangularMetaLayer_1_dropout_rate                                   0.331558\n",
       "Conv2DRectangularMetaLayer_1_filters                                            99.0\n",
       "Conv2DRectangularMetaLayer_1_layers                                              1.0\n",
       "Conv2DRectangularMetaLayer_1_x_kernel_size                                       7.0\n",
       "Conv2DRectangularMetaLayer_1_x_pool_size                                         5.0\n",
       "Conv2DRectangularMetaLayer_1_y_kernel_size                                       2.0\n",
       "Conv2DRectangularMetaLayer_1_y_pool_size                                         1.0\n",
       "Name: 860, dtype: object"
      ]
     },
     "metadata": {},
     "output_type": "display_data"
    },
    {
     "data": {
      "text/plain": [
       "run_type                                                                      test\n",
       "task                                        active_promoters_vs_inactive_promoters\n",
       "cell_line                                                                   HEK293\n",
       "DenseRectangularMetaLayer_0_dropout_rate                                  0.450985\n",
       "DenseRectangularMetaLayer_0_layers                                             0.0\n",
       "DenseRectangularMetaLayer_0_units                                             28.0\n",
       "DenseRectangularMetaLayer_1_dropout_rate                                   0.25165\n",
       "DenseRectangularMetaLayer_1_layers                                             1.0\n",
       "DenseRectangularMetaLayer_1_units                                            113.0\n",
       "DenseRectangularMetaLayer_2_dropout_rate                                   0.38272\n",
       "DenseRectangularMetaLayer_2_layers                                             0.0\n",
       "DenseRectangularMetaLayer_2_units                                            170.0\n",
       "DenseRectangularMetaLayer_3_dropout_rate                                  0.062486\n",
       "DenseRectangularMetaLayer_3_layers                                             1.0\n",
       "DenseRectangularMetaLayer_3_units                                            170.0\n",
       "model                                                                bayesian_ffnn\n",
       "Name: 321, dtype: object"
      ]
     },
     "metadata": {},
     "output_type": "display_data"
    },
    {
     "data": {
      "text/plain": [
       "run_type                                                                        test\n",
       "task                                          active_promoters_vs_inactive_promoters\n",
       "cell_line                                                                      HepG2\n",
       "DenseRectangularMetaLayer_0_dropout_rate                                    0.048974\n",
       "DenseRectangularMetaLayer_0_layers                                               2.0\n",
       "DenseRectangularMetaLayer_0_units                                               21.0\n",
       "DenseRectangularMetaLayer_1_dropout_rate                                    0.114902\n",
       "DenseRectangularMetaLayer_1_layers                                               1.0\n",
       "DenseRectangularMetaLayer_1_units                                               14.0\n",
       "model                                                                   bayesian_cnn\n",
       "Conv2DRectangularMetaLayer_0_dropout_rate                                   0.319032\n",
       "Conv2DRectangularMetaLayer_0_filters                                           113.0\n",
       "Conv2DRectangularMetaLayer_0_layers                                              0.0\n",
       "Conv2DRectangularMetaLayer_0_x_kernel_size                                       6.0\n",
       "Conv2DRectangularMetaLayer_0_x_pool_size                                         7.0\n",
       "Conv2DRectangularMetaLayer_0_y_kernel_size                                       2.0\n",
       "Conv2DRectangularMetaLayer_0_y_pool_size                                         2.0\n",
       "Conv2DRectangularMetaLayer_1_dropout_rate                                   0.228316\n",
       "Conv2DRectangularMetaLayer_1_filters                                           113.0\n",
       "Conv2DRectangularMetaLayer_1_layers                                              1.0\n",
       "Conv2DRectangularMetaLayer_1_x_kernel_size                                       5.0\n",
       "Conv2DRectangularMetaLayer_1_x_pool_size                                         8.0\n",
       "Conv2DRectangularMetaLayer_1_y_kernel_size                                       2.0\n",
       "Conv2DRectangularMetaLayer_1_y_pool_size                                         1.0\n",
       "Name: 914, dtype: object"
      ]
     },
     "metadata": {},
     "output_type": "display_data"
    },
    {
     "data": {
      "text/plain": [
       "run_type                                                                      test\n",
       "task                                        active_promoters_vs_inactive_promoters\n",
       "cell_line                                                                    HepG2\n",
       "DenseRectangularMetaLayer_0_dropout_rate                                  0.096114\n",
       "DenseRectangularMetaLayer_0_layers                                             1.0\n",
       "DenseRectangularMetaLayer_0_units                                            256.0\n",
       "DenseRectangularMetaLayer_1_dropout_rate                                  0.042196\n",
       "DenseRectangularMetaLayer_1_layers                                             1.0\n",
       "DenseRectangularMetaLayer_1_units                                              0.0\n",
       "DenseRectangularMetaLayer_2_dropout_rate                                  0.088809\n",
       "DenseRectangularMetaLayer_2_layers                                             0.0\n",
       "DenseRectangularMetaLayer_2_units                                             85.0\n",
       "DenseRectangularMetaLayer_3_dropout_rate                                  0.018639\n",
       "DenseRectangularMetaLayer_3_layers                                             0.0\n",
       "DenseRectangularMetaLayer_3_units                                            227.0\n",
       "model                                                                bayesian_ffnn\n",
       "Name: 429, dtype: object"
      ]
     },
     "metadata": {},
     "output_type": "display_data"
    },
    {
     "data": {
      "text/plain": [
       "run_type                                                                        test\n",
       "task                                          active_promoters_vs_inactive_promoters\n",
       "cell_line                                                                       K562\n",
       "DenseRectangularMetaLayer_0_dropout_rate                                    0.129582\n",
       "DenseRectangularMetaLayer_0_layers                                               2.0\n",
       "DenseRectangularMetaLayer_0_units                                               42.0\n",
       "DenseRectangularMetaLayer_1_dropout_rate                                    0.161689\n",
       "DenseRectangularMetaLayer_1_layers                                               1.0\n",
       "DenseRectangularMetaLayer_1_units                                               64.0\n",
       "model                                                                   bayesian_cnn\n",
       "Conv2DRectangularMetaLayer_0_dropout_rate                                   0.388762\n",
       "Conv2DRectangularMetaLayer_0_filters                                            14.0\n",
       "Conv2DRectangularMetaLayer_0_layers                                              0.0\n",
       "Conv2DRectangularMetaLayer_0_x_kernel_size                                       5.0\n",
       "Conv2DRectangularMetaLayer_0_x_pool_size                                         5.0\n",
       "Conv2DRectangularMetaLayer_0_y_kernel_size                                       2.0\n",
       "Conv2DRectangularMetaLayer_0_y_pool_size                                         1.0\n",
       "Conv2DRectangularMetaLayer_1_dropout_rate                                   0.159636\n",
       "Conv2DRectangularMetaLayer_1_filters                                            85.0\n",
       "Conv2DRectangularMetaLayer_1_layers                                              1.0\n",
       "Conv2DRectangularMetaLayer_1_x_kernel_size                                       7.0\n",
       "Conv2DRectangularMetaLayer_1_x_pool_size                                         5.0\n",
       "Conv2DRectangularMetaLayer_1_y_kernel_size                                       2.0\n",
       "Conv2DRectangularMetaLayer_1_y_pool_size                                         1.0\n",
       "Name: 965, dtype: object"
      ]
     },
     "metadata": {},
     "output_type": "display_data"
    },
    {
     "data": {
      "text/plain": [
       "run_type                                                                      test\n",
       "task                                        active_promoters_vs_inactive_promoters\n",
       "cell_line                                                                     K562\n",
       "DenseRectangularMetaLayer_0_dropout_rate                                  0.017228\n",
       "DenseRectangularMetaLayer_0_layers                                             1.0\n",
       "DenseRectangularMetaLayer_0_units                                             85.0\n",
       "DenseRectangularMetaLayer_1_dropout_rate                                  0.284986\n",
       "DenseRectangularMetaLayer_1_layers                                             1.0\n",
       "DenseRectangularMetaLayer_1_units                                            199.0\n",
       "DenseRectangularMetaLayer_2_dropout_rate                                  0.413328\n",
       "DenseRectangularMetaLayer_2_layers                                             0.0\n",
       "DenseRectangularMetaLayer_2_units                                            113.0\n",
       "DenseRectangularMetaLayer_3_dropout_rate                                  0.092335\n",
       "DenseRectangularMetaLayer_3_layers                                             3.0\n",
       "DenseRectangularMetaLayer_3_units                                            227.0\n",
       "model                                                                bayesian_ffnn\n",
       "Name: 537, dtype: object"
      ]
     },
     "metadata": {},
     "output_type": "display_data"
    },
    {
     "data": {
      "text/plain": [
       "run_type                                                                        test\n",
       "task                                          active_promoters_vs_inactive_promoters\n",
       "cell_line                                                                      MCF-7\n",
       "DenseRectangularMetaLayer_0_dropout_rate                                    0.497323\n",
       "DenseRectangularMetaLayer_0_layers                                               3.0\n",
       "DenseRectangularMetaLayer_0_units                                               28.0\n",
       "DenseRectangularMetaLayer_1_dropout_rate                                    0.354758\n",
       "DenseRectangularMetaLayer_1_layers                                               0.0\n",
       "DenseRectangularMetaLayer_1_units                                               64.0\n",
       "model                                                                   bayesian_cnn\n",
       "Conv2DRectangularMetaLayer_0_dropout_rate                                   0.247164\n",
       "Conv2DRectangularMetaLayer_0_filters                                            71.0\n",
       "Conv2DRectangularMetaLayer_0_layers                                              0.0\n",
       "Conv2DRectangularMetaLayer_0_x_kernel_size                                       7.0\n",
       "Conv2DRectangularMetaLayer_0_x_pool_size                                         8.0\n",
       "Conv2DRectangularMetaLayer_0_y_kernel_size                                       2.0\n",
       "Conv2DRectangularMetaLayer_0_y_pool_size                                         2.0\n",
       "Conv2DRectangularMetaLayer_1_dropout_rate                                   0.225482\n",
       "Conv2DRectangularMetaLayer_1_filters                                            99.0\n",
       "Conv2DRectangularMetaLayer_1_layers                                              1.0\n",
       "Conv2DRectangularMetaLayer_1_x_kernel_size                                       7.0\n",
       "Conv2DRectangularMetaLayer_1_x_pool_size                                         7.0\n",
       "Conv2DRectangularMetaLayer_1_y_kernel_size                                       2.0\n",
       "Conv2DRectangularMetaLayer_1_y_pool_size                                         1.0\n",
       "Name: 1010, dtype: object"
      ]
     },
     "metadata": {},
     "output_type": "display_data"
    },
    {
     "data": {
      "text/plain": [
       "run_type                                                                      test\n",
       "task                                        active_promoters_vs_inactive_promoters\n",
       "cell_line                                                                    MCF-7\n",
       "DenseRectangularMetaLayer_0_dropout_rate                                  0.080986\n",
       "DenseRectangularMetaLayer_0_layers                                             2.0\n",
       "DenseRectangularMetaLayer_0_units                                            227.0\n",
       "DenseRectangularMetaLayer_1_dropout_rate                                  0.148444\n",
       "DenseRectangularMetaLayer_1_layers                                             0.0\n",
       "DenseRectangularMetaLayer_1_units                                              0.0\n",
       "DenseRectangularMetaLayer_2_dropout_rate                                  0.234034\n",
       "DenseRectangularMetaLayer_2_layers                                             1.0\n",
       "DenseRectangularMetaLayer_2_units                                            142.0\n",
       "DenseRectangularMetaLayer_3_dropout_rate                                  0.277233\n",
       "DenseRectangularMetaLayer_3_layers                                             0.0\n",
       "DenseRectangularMetaLayer_3_units                                            199.0\n",
       "model                                                                bayesian_ffnn\n",
       "Name: 637, dtype: object"
      ]
     },
     "metadata": {},
     "output_type": "display_data"
    },
    {
     "data": {
      "text/plain": [
       "run_type                                                    test\n",
       "task                                          active_vs_inactive\n",
       "cell_line                                                   A549\n",
       "DenseRectangularMetaLayer_0_dropout_rate                0.154179\n",
       "DenseRectangularMetaLayer_0_layers                           0.0\n",
       "DenseRectangularMetaLayer_0_units                            7.0\n",
       "DenseRectangularMetaLayer_1_dropout_rate                0.036625\n",
       "DenseRectangularMetaLayer_1_layers                           1.0\n",
       "DenseRectangularMetaLayer_1_units                            7.0\n",
       "model                                               bayesian_cnn\n",
       "Conv2DRectangularMetaLayer_0_dropout_rate               0.116655\n",
       "Conv2DRectangularMetaLayer_0_filters                        14.0\n",
       "Conv2DRectangularMetaLayer_0_layers                          2.0\n",
       "Conv2DRectangularMetaLayer_0_x_kernel_size                   5.0\n",
       "Conv2DRectangularMetaLayer_0_x_pool_size                     5.0\n",
       "Conv2DRectangularMetaLayer_0_y_kernel_size                   2.0\n",
       "Conv2DRectangularMetaLayer_0_y_pool_size                     1.0\n",
       "Conv2DRectangularMetaLayer_1_dropout_rate               0.203534\n",
       "Conv2DRectangularMetaLayer_1_filters                        56.0\n",
       "Conv2DRectangularMetaLayer_1_layers                          0.0\n",
       "Conv2DRectangularMetaLayer_1_x_kernel_size                   2.0\n",
       "Conv2DRectangularMetaLayer_1_x_pool_size                     5.0\n",
       "Conv2DRectangularMetaLayer_1_y_kernel_size                   2.0\n",
       "Conv2DRectangularMetaLayer_1_y_pool_size                     1.0\n",
       "Name: 746, dtype: object"
      ]
     },
     "metadata": {},
     "output_type": "display_data"
    },
    {
     "data": {
      "text/plain": [
       "run_type                                                  test\n",
       "task                                        active_vs_inactive\n",
       "cell_line                                                 A549\n",
       "DenseRectangularMetaLayer_0_dropout_rate              0.211266\n",
       "DenseRectangularMetaLayer_0_layers                         2.0\n",
       "DenseRectangularMetaLayer_0_units                        113.0\n",
       "DenseRectangularMetaLayer_1_dropout_rate              0.063068\n",
       "DenseRectangularMetaLayer_1_layers                         2.0\n",
       "DenseRectangularMetaLayer_1_units                          0.0\n",
       "DenseRectangularMetaLayer_2_dropout_rate              0.025826\n",
       "DenseRectangularMetaLayer_2_layers                         2.0\n",
       "DenseRectangularMetaLayer_2_units                          0.0\n",
       "DenseRectangularMetaLayer_3_dropout_rate              0.196548\n",
       "DenseRectangularMetaLayer_3_layers                         0.0\n",
       "DenseRectangularMetaLayer_3_units                          0.0\n",
       "model                                            bayesian_ffnn\n",
       "Name: 86, dtype: object"
      ]
     },
     "metadata": {},
     "output_type": "display_data"
    },
    {
     "data": {
      "text/plain": [
       "run_type                                                    test\n",
       "task                                          active_vs_inactive\n",
       "cell_line                                                GM12878\n",
       "DenseRectangularMetaLayer_0_dropout_rate                0.096495\n",
       "DenseRectangularMetaLayer_0_layers                           1.0\n",
       "DenseRectangularMetaLayer_0_units                            7.0\n",
       "DenseRectangularMetaLayer_1_dropout_rate                0.408108\n",
       "DenseRectangularMetaLayer_1_layers                           0.0\n",
       "DenseRectangularMetaLayer_1_units                           42.0\n",
       "model                                               bayesian_cnn\n",
       "Conv2DRectangularMetaLayer_0_dropout_rate               0.048917\n",
       "Conv2DRectangularMetaLayer_0_filters                        14.0\n",
       "Conv2DRectangularMetaLayer_0_layers                          2.0\n",
       "Conv2DRectangularMetaLayer_0_x_kernel_size                   5.0\n",
       "Conv2DRectangularMetaLayer_0_x_pool_size                     5.0\n",
       "Conv2DRectangularMetaLayer_0_y_kernel_size                   2.0\n",
       "Conv2DRectangularMetaLayer_0_y_pool_size                     1.0\n",
       "Conv2DRectangularMetaLayer_1_dropout_rate               0.280067\n",
       "Conv2DRectangularMetaLayer_1_filters                        56.0\n",
       "Conv2DRectangularMetaLayer_1_layers                          0.0\n",
       "Conv2DRectangularMetaLayer_1_x_kernel_size                   2.0\n",
       "Conv2DRectangularMetaLayer_1_x_pool_size                     8.0\n",
       "Conv2DRectangularMetaLayer_1_y_kernel_size                   1.0\n",
       "Conv2DRectangularMetaLayer_1_y_pool_size                     1.0\n",
       "Name: 794, dtype: object"
      ]
     },
     "metadata": {},
     "output_type": "display_data"
    },
    {
     "data": {
      "text/plain": [
       "run_type                                                  test\n",
       "task                                        active_vs_inactive\n",
       "cell_line                                              GM12878\n",
       "DenseRectangularMetaLayer_0_dropout_rate              0.152893\n",
       "DenseRectangularMetaLayer_0_layers                         0.0\n",
       "DenseRectangularMetaLayer_0_units                        142.0\n",
       "DenseRectangularMetaLayer_1_dropout_rate              0.171739\n",
       "DenseRectangularMetaLayer_1_layers                         3.0\n",
       "DenseRectangularMetaLayer_1_units                        256.0\n",
       "DenseRectangularMetaLayer_2_dropout_rate              0.387417\n",
       "DenseRectangularMetaLayer_2_layers                         0.0\n",
       "DenseRectangularMetaLayer_2_units                        256.0\n",
       "DenseRectangularMetaLayer_3_dropout_rate              0.360276\n",
       "DenseRectangularMetaLayer_3_layers                         0.0\n",
       "DenseRectangularMetaLayer_3_units                        142.0\n",
       "model                                            bayesian_ffnn\n",
       "Name: 189, dtype: object"
      ]
     },
     "metadata": {},
     "output_type": "display_data"
    },
    {
     "data": {
      "text/plain": [
       "run_type                                                    test\n",
       "task                                          active_vs_inactive\n",
       "cell_line                                                     H1\n",
       "DenseRectangularMetaLayer_0_dropout_rate                0.372981\n",
       "DenseRectangularMetaLayer_0_layers                           0.0\n",
       "DenseRectangularMetaLayer_0_units                           28.0\n",
       "DenseRectangularMetaLayer_1_dropout_rate                0.259078\n",
       "DenseRectangularMetaLayer_1_layers                           1.0\n",
       "DenseRectangularMetaLayer_1_units                           14.0\n",
       "model                                               bayesian_cnn\n",
       "Conv2DRectangularMetaLayer_0_dropout_rate               0.041363\n",
       "Conv2DRectangularMetaLayer_0_filters                        71.0\n",
       "Conv2DRectangularMetaLayer_0_layers                          2.0\n",
       "Conv2DRectangularMetaLayer_0_x_kernel_size                   8.0\n",
       "Conv2DRectangularMetaLayer_0_x_pool_size                     6.0\n",
       "Conv2DRectangularMetaLayer_0_y_kernel_size                   2.0\n",
       "Conv2DRectangularMetaLayer_0_y_pool_size                     1.0\n",
       "Conv2DRectangularMetaLayer_1_dropout_rate               0.133863\n",
       "Conv2DRectangularMetaLayer_1_filters                        71.0\n",
       "Conv2DRectangularMetaLayer_1_layers                          0.0\n",
       "Conv2DRectangularMetaLayer_1_x_kernel_size                   7.0\n",
       "Conv2DRectangularMetaLayer_1_x_pool_size                     5.0\n",
       "Conv2DRectangularMetaLayer_1_y_kernel_size                   2.0\n",
       "Conv2DRectangularMetaLayer_1_y_pool_size                     2.0\n",
       "Name: 844, dtype: object"
      ]
     },
     "metadata": {},
     "output_type": "display_data"
    },
    {
     "data": {
      "text/plain": [
       "run_type                                                  test\n",
       "task                                        active_vs_inactive\n",
       "cell_line                                                   H1\n",
       "DenseRectangularMetaLayer_0_dropout_rate              0.457448\n",
       "DenseRectangularMetaLayer_0_layers                         0.0\n",
       "DenseRectangularMetaLayer_0_units                          0.0\n",
       "DenseRectangularMetaLayer_1_dropout_rate              0.070917\n",
       "DenseRectangularMetaLayer_1_layers                         2.0\n",
       "DenseRectangularMetaLayer_1_units                        170.0\n",
       "DenseRectangularMetaLayer_2_dropout_rate              0.447922\n",
       "DenseRectangularMetaLayer_2_layers                         0.0\n",
       "DenseRectangularMetaLayer_2_units                        142.0\n",
       "DenseRectangularMetaLayer_3_dropout_rate              0.297467\n",
       "DenseRectangularMetaLayer_3_layers                         0.0\n",
       "DenseRectangularMetaLayer_3_units                         28.0\n",
       "model                                            bayesian_ffnn\n",
       "Name: 289, dtype: object"
      ]
     },
     "metadata": {},
     "output_type": "display_data"
    },
    {
     "data": {
      "text/plain": [
       "run_type                                                    test\n",
       "task                                          active_vs_inactive\n",
       "cell_line                                                 HEK293\n",
       "DenseRectangularMetaLayer_0_dropout_rate                0.068947\n",
       "DenseRectangularMetaLayer_0_layers                           1.0\n",
       "DenseRectangularMetaLayer_0_units                            7.0\n",
       "DenseRectangularMetaLayer_1_dropout_rate                0.213477\n",
       "DenseRectangularMetaLayer_1_layers                           2.0\n",
       "DenseRectangularMetaLayer_1_units                           21.0\n",
       "model                                               bayesian_cnn\n",
       "Conv2DRectangularMetaLayer_0_dropout_rate               0.197039\n",
       "Conv2DRectangularMetaLayer_0_filters                        85.0\n",
       "Conv2DRectangularMetaLayer_0_layers                          0.0\n",
       "Conv2DRectangularMetaLayer_0_x_kernel_size                   6.0\n",
       "Conv2DRectangularMetaLayer_0_x_pool_size                     5.0\n",
       "Conv2DRectangularMetaLayer_0_y_kernel_size                   1.0\n",
       "Conv2DRectangularMetaLayer_0_y_pool_size                     1.0\n",
       "Conv2DRectangularMetaLayer_1_dropout_rate               0.060055\n",
       "Conv2DRectangularMetaLayer_1_filters                        99.0\n",
       "Conv2DRectangularMetaLayer_1_layers                          1.0\n",
       "Conv2DRectangularMetaLayer_1_x_kernel_size                   7.0\n",
       "Conv2DRectangularMetaLayer_1_x_pool_size                     7.0\n",
       "Conv2DRectangularMetaLayer_1_y_kernel_size                   2.0\n",
       "Conv2DRectangularMetaLayer_1_y_pool_size                     1.0\n",
       "Name: 891, dtype: object"
      ]
     },
     "metadata": {},
     "output_type": "display_data"
    },
    {
     "data": {
      "text/plain": [
       "run_type                                                  test\n",
       "task                                        active_vs_inactive\n",
       "cell_line                                               HEK293\n",
       "DenseRectangularMetaLayer_0_dropout_rate              0.146884\n",
       "DenseRectangularMetaLayer_0_layers                         1.0\n",
       "DenseRectangularMetaLayer_0_units                         56.0\n",
       "DenseRectangularMetaLayer_1_dropout_rate              0.266977\n",
       "DenseRectangularMetaLayer_1_layers                         0.0\n",
       "DenseRectangularMetaLayer_1_units                          0.0\n",
       "DenseRectangularMetaLayer_2_dropout_rate              0.065976\n",
       "DenseRectangularMetaLayer_2_layers                         3.0\n",
       "DenseRectangularMetaLayer_2_units                         85.0\n",
       "DenseRectangularMetaLayer_3_dropout_rate              0.476122\n",
       "DenseRectangularMetaLayer_3_layers                         0.0\n",
       "DenseRectangularMetaLayer_3_units                         28.0\n",
       "model                                            bayesian_ffnn\n",
       "Name: 383, dtype: object"
      ]
     },
     "metadata": {},
     "output_type": "display_data"
    },
    {
     "data": {
      "text/plain": [
       "run_type                                                    test\n",
       "task                                          active_vs_inactive\n",
       "cell_line                                                  HepG2\n",
       "DenseRectangularMetaLayer_0_dropout_rate                  0.4495\n",
       "DenseRectangularMetaLayer_0_layers                           3.0\n",
       "DenseRectangularMetaLayer_0_units                           28.0\n",
       "DenseRectangularMetaLayer_1_dropout_rate                0.080504\n",
       "DenseRectangularMetaLayer_1_layers                           0.0\n",
       "DenseRectangularMetaLayer_1_units                           35.0\n",
       "model                                               bayesian_cnn\n",
       "Conv2DRectangularMetaLayer_0_dropout_rate               0.116819\n",
       "Conv2DRectangularMetaLayer_0_filters                       113.0\n",
       "Conv2DRectangularMetaLayer_0_layers                          0.0\n",
       "Conv2DRectangularMetaLayer_0_x_kernel_size                   3.0\n",
       "Conv2DRectangularMetaLayer_0_x_pool_size                     7.0\n",
       "Conv2DRectangularMetaLayer_0_y_kernel_size                   2.0\n",
       "Conv2DRectangularMetaLayer_0_y_pool_size                     2.0\n",
       "Conv2DRectangularMetaLayer_1_dropout_rate               0.044007\n",
       "Conv2DRectangularMetaLayer_1_filters                        14.0\n",
       "Conv2DRectangularMetaLayer_1_layers                          1.0\n",
       "Conv2DRectangularMetaLayer_1_x_kernel_size                   6.0\n",
       "Conv2DRectangularMetaLayer_1_x_pool_size                     7.0\n",
       "Conv2DRectangularMetaLayer_1_y_kernel_size                   2.0\n",
       "Conv2DRectangularMetaLayer_1_y_pool_size                     1.0\n",
       "Name: 944, dtype: object"
      ]
     },
     "metadata": {},
     "output_type": "display_data"
    },
    {
     "data": {
      "text/plain": [
       "run_type                                                  test\n",
       "task                                        active_vs_inactive\n",
       "cell_line                                                HepG2\n",
       "DenseRectangularMetaLayer_0_dropout_rate              0.118654\n",
       "DenseRectangularMetaLayer_0_layers                         0.0\n",
       "DenseRectangularMetaLayer_0_units                        142.0\n",
       "DenseRectangularMetaLayer_1_dropout_rate              0.172128\n",
       "DenseRectangularMetaLayer_1_layers                         3.0\n",
       "DenseRectangularMetaLayer_1_units                        256.0\n",
       "DenseRectangularMetaLayer_2_dropout_rate               0.37846\n",
       "DenseRectangularMetaLayer_2_layers                         0.0\n",
       "DenseRectangularMetaLayer_2_units                        256.0\n",
       "DenseRectangularMetaLayer_3_dropout_rate              0.361768\n",
       "DenseRectangularMetaLayer_3_layers                         0.0\n",
       "DenseRectangularMetaLayer_3_units                        142.0\n",
       "model                                            bayesian_ffnn\n",
       "Name: 495, dtype: object"
      ]
     },
     "metadata": {},
     "output_type": "display_data"
    },
    {
     "data": {
      "text/plain": [
       "run_type                                                    test\n",
       "task                                          active_vs_inactive\n",
       "cell_line                                                   K562\n",
       "DenseRectangularMetaLayer_0_dropout_rate                0.002042\n",
       "DenseRectangularMetaLayer_0_layers                           2.0\n",
       "DenseRectangularMetaLayer_0_units                           49.0\n",
       "DenseRectangularMetaLayer_1_dropout_rate                0.084356\n",
       "DenseRectangularMetaLayer_1_layers                           1.0\n",
       "DenseRectangularMetaLayer_1_units                           14.0\n",
       "model                                               bayesian_cnn\n",
       "Conv2DRectangularMetaLayer_0_dropout_rate               0.246865\n",
       "Conv2DRectangularMetaLayer_0_filters                        99.0\n",
       "Conv2DRectangularMetaLayer_0_layers                          0.0\n",
       "Conv2DRectangularMetaLayer_0_x_kernel_size                   8.0\n",
       "Conv2DRectangularMetaLayer_0_x_pool_size                     5.0\n",
       "Conv2DRectangularMetaLayer_0_y_kernel_size                   2.0\n",
       "Conv2DRectangularMetaLayer_0_y_pool_size                     2.0\n",
       "Conv2DRectangularMetaLayer_1_dropout_rate               0.119285\n",
       "Conv2DRectangularMetaLayer_1_filters                        28.0\n",
       "Conv2DRectangularMetaLayer_1_layers                          1.0\n",
       "Conv2DRectangularMetaLayer_1_x_kernel_size                   7.0\n",
       "Conv2DRectangularMetaLayer_1_x_pool_size                     8.0\n",
       "Conv2DRectangularMetaLayer_1_y_kernel_size                   2.0\n",
       "Conv2DRectangularMetaLayer_1_y_pool_size                     1.0\n",
       "Name: 993, dtype: object"
      ]
     },
     "metadata": {},
     "output_type": "display_data"
    },
    {
     "data": {
      "text/plain": [
       "run_type                                                  test\n",
       "task                                        active_vs_inactive\n",
       "cell_line                                                 K562\n",
       "DenseRectangularMetaLayer_0_dropout_rate              0.059119\n",
       "DenseRectangularMetaLayer_0_layers                         3.0\n",
       "DenseRectangularMetaLayer_0_units                        256.0\n",
       "DenseRectangularMetaLayer_1_dropout_rate              0.474768\n",
       "DenseRectangularMetaLayer_1_layers                         0.0\n",
       "DenseRectangularMetaLayer_1_units                         56.0\n",
       "DenseRectangularMetaLayer_2_dropout_rate              0.224977\n",
       "DenseRectangularMetaLayer_2_layers                         0.0\n",
       "DenseRectangularMetaLayer_2_units                         85.0\n",
       "DenseRectangularMetaLayer_3_dropout_rate               0.06774\n",
       "DenseRectangularMetaLayer_3_layers                         0.0\n",
       "DenseRectangularMetaLayer_3_units                        142.0\n",
       "model                                            bayesian_ffnn\n",
       "Name: 581, dtype: object"
      ]
     },
     "metadata": {},
     "output_type": "display_data"
    },
    {
     "data": {
      "text/plain": [
       "run_type                                                    test\n",
       "task                                          active_vs_inactive\n",
       "cell_line                                                  MCF-7\n",
       "DenseRectangularMetaLayer_0_dropout_rate                0.376066\n",
       "DenseRectangularMetaLayer_0_layers                           3.0\n",
       "DenseRectangularMetaLayer_0_units                           35.0\n",
       "DenseRectangularMetaLayer_1_dropout_rate                0.328278\n",
       "DenseRectangularMetaLayer_1_layers                           0.0\n",
       "DenseRectangularMetaLayer_1_units                            7.0\n",
       "model                                               bayesian_cnn\n",
       "Conv2DRectangularMetaLayer_0_dropout_rate               0.440387\n",
       "Conv2DRectangularMetaLayer_0_filters                        71.0\n",
       "Conv2DRectangularMetaLayer_0_layers                          0.0\n",
       "Conv2DRectangularMetaLayer_0_x_kernel_size                   5.0\n",
       "Conv2DRectangularMetaLayer_0_x_pool_size                     4.0\n",
       "Conv2DRectangularMetaLayer_0_y_kernel_size                   2.0\n",
       "Conv2DRectangularMetaLayer_0_y_pool_size                     2.0\n",
       "Conv2DRectangularMetaLayer_1_dropout_rate               0.133734\n",
       "Conv2DRectangularMetaLayer_1_filters                        71.0\n",
       "Conv2DRectangularMetaLayer_1_layers                          1.0\n",
       "Conv2DRectangularMetaLayer_1_x_kernel_size                   6.0\n",
       "Conv2DRectangularMetaLayer_1_x_pool_size                     7.0\n",
       "Conv2DRectangularMetaLayer_1_y_kernel_size                   2.0\n",
       "Conv2DRectangularMetaLayer_1_y_pool_size                     1.0\n",
       "Name: 1041, dtype: object"
      ]
     },
     "metadata": {},
     "output_type": "display_data"
    },
    {
     "data": {
      "text/plain": [
       "run_type                                                  test\n",
       "task                                        active_vs_inactive\n",
       "cell_line                                                MCF-7\n",
       "DenseRectangularMetaLayer_0_dropout_rate              0.246665\n",
       "DenseRectangularMetaLayer_0_layers                         0.0\n",
       "DenseRectangularMetaLayer_0_units                        170.0\n",
       "DenseRectangularMetaLayer_1_dropout_rate              0.064422\n",
       "DenseRectangularMetaLayer_1_layers                         1.0\n",
       "DenseRectangularMetaLayer_1_units                         85.0\n",
       "DenseRectangularMetaLayer_2_dropout_rate              0.067416\n",
       "DenseRectangularMetaLayer_2_layers                         0.0\n",
       "DenseRectangularMetaLayer_2_units                        227.0\n",
       "DenseRectangularMetaLayer_3_dropout_rate               0.34594\n",
       "DenseRectangularMetaLayer_3_layers                         2.0\n",
       "DenseRectangularMetaLayer_3_units                        199.0\n",
       "model                                            bayesian_ffnn\n",
       "Name: 682, dtype: object"
      ]
     },
     "metadata": {},
     "output_type": "display_data"
    },
    {
     "data": {
      "text/plain": [
       "run_type                                                                          test\n",
       "task                                          inactive_enhancers_vs_inactive_promoters\n",
       "cell_line                                                                         A549\n",
       "DenseRectangularMetaLayer_0_dropout_rate                                      0.331375\n",
       "DenseRectangularMetaLayer_0_layers                                                 0.0\n",
       "DenseRectangularMetaLayer_0_units                                                 28.0\n",
       "DenseRectangularMetaLayer_1_dropout_rate                                      0.014442\n",
       "DenseRectangularMetaLayer_1_layers                                                 3.0\n",
       "DenseRectangularMetaLayer_1_units                                                  7.0\n",
       "model                                                                     bayesian_cnn\n",
       "Conv2DRectangularMetaLayer_0_dropout_rate                                     0.304893\n",
       "Conv2DRectangularMetaLayer_0_filters                                              28.0\n",
       "Conv2DRectangularMetaLayer_0_layers                                                3.0\n",
       "Conv2DRectangularMetaLayer_0_x_kernel_size                                         8.0\n",
       "Conv2DRectangularMetaLayer_0_x_pool_size                                           5.0\n",
       "Conv2DRectangularMetaLayer_0_y_kernel_size                                         2.0\n",
       "Conv2DRectangularMetaLayer_0_y_pool_size                                           1.0\n",
       "Conv2DRectangularMetaLayer_1_dropout_rate                                     0.176711\n",
       "Conv2DRectangularMetaLayer_1_filters                                               0.0\n",
       "Conv2DRectangularMetaLayer_1_layers                                                0.0\n",
       "Conv2DRectangularMetaLayer_1_x_kernel_size                                         2.0\n",
       "Conv2DRectangularMetaLayer_1_x_pool_size                                           2.0\n",
       "Conv2DRectangularMetaLayer_1_y_kernel_size                                         2.0\n",
       "Conv2DRectangularMetaLayer_1_y_pool_size                                           1.0\n",
       "Name: 736, dtype: object"
      ]
     },
     "metadata": {},
     "output_type": "display_data"
    },
    {
     "data": {
      "text/plain": [
       "run_type                                                                        test\n",
       "task                                        inactive_enhancers_vs_inactive_promoters\n",
       "cell_line                                                                       A549\n",
       "DenseRectangularMetaLayer_0_dropout_rate                                    0.220641\n",
       "DenseRectangularMetaLayer_0_layers                                               3.0\n",
       "DenseRectangularMetaLayer_0_units                                               85.0\n",
       "DenseRectangularMetaLayer_1_dropout_rate                                    0.038191\n",
       "DenseRectangularMetaLayer_1_layers                                               0.0\n",
       "DenseRectangularMetaLayer_1_units                                               85.0\n",
       "DenseRectangularMetaLayer_2_dropout_rate                                    0.175914\n",
       "DenseRectangularMetaLayer_2_layers                                               0.0\n",
       "DenseRectangularMetaLayer_2_units                                               28.0\n",
       "DenseRectangularMetaLayer_3_dropout_rate                                    0.432612\n",
       "DenseRectangularMetaLayer_3_layers                                               0.0\n",
       "DenseRectangularMetaLayer_3_units                                               85.0\n",
       "model                                                                  bayesian_ffnn\n",
       "Name: 78, dtype: object"
      ]
     },
     "metadata": {},
     "output_type": "display_data"
    },
    {
     "data": {
      "text/plain": [
       "run_type                                                                          test\n",
       "task                                          inactive_enhancers_vs_inactive_promoters\n",
       "cell_line                                                                      GM12878\n",
       "DenseRectangularMetaLayer_0_dropout_rate                                      0.399664\n",
       "DenseRectangularMetaLayer_0_layers                                                 0.0\n",
       "DenseRectangularMetaLayer_0_units                                                 42.0\n",
       "DenseRectangularMetaLayer_1_dropout_rate                                      0.153106\n",
       "DenseRectangularMetaLayer_1_layers                                                 3.0\n",
       "DenseRectangularMetaLayer_1_units                                                 42.0\n",
       "model                                                                     bayesian_cnn\n",
       "Conv2DRectangularMetaLayer_0_dropout_rate                                     0.189742\n",
       "Conv2DRectangularMetaLayer_0_filters                                              42.0\n",
       "Conv2DRectangularMetaLayer_0_layers                                                3.0\n",
       "Conv2DRectangularMetaLayer_0_x_kernel_size                                         6.0\n",
       "Conv2DRectangularMetaLayer_0_x_pool_size                                           2.0\n",
       "Conv2DRectangularMetaLayer_0_y_kernel_size                                         2.0\n",
       "Conv2DRectangularMetaLayer_0_y_pool_size                                           2.0\n",
       "Conv2DRectangularMetaLayer_1_dropout_rate                                     0.051114\n",
       "Conv2DRectangularMetaLayer_1_filters                                              42.0\n",
       "Conv2DRectangularMetaLayer_1_layers                                                2.0\n",
       "Conv2DRectangularMetaLayer_1_x_kernel_size                                         5.0\n",
       "Conv2DRectangularMetaLayer_1_x_pool_size                                           5.0\n",
       "Conv2DRectangularMetaLayer_1_y_kernel_size                                         2.0\n",
       "Conv2DRectangularMetaLayer_1_y_pool_size                                           1.0\n",
       "Name: 781, dtype: object"
      ]
     },
     "metadata": {},
     "output_type": "display_data"
    },
    {
     "data": {
      "text/plain": [
       "run_type                                                                        test\n",
       "task                                        inactive_enhancers_vs_inactive_promoters\n",
       "cell_line                                                                    GM12878\n",
       "DenseRectangularMetaLayer_0_dropout_rate                                    0.121272\n",
       "DenseRectangularMetaLayer_0_layers                                               1.0\n",
       "DenseRectangularMetaLayer_0_units                                              113.0\n",
       "DenseRectangularMetaLayer_1_dropout_rate                                    0.103724\n",
       "DenseRectangularMetaLayer_1_layers                                               1.0\n",
       "DenseRectangularMetaLayer_1_units                                              256.0\n",
       "DenseRectangularMetaLayer_2_dropout_rate                                    0.125436\n",
       "DenseRectangularMetaLayer_2_layers                                               0.0\n",
       "DenseRectangularMetaLayer_2_units                                               85.0\n",
       "DenseRectangularMetaLayer_3_dropout_rate                                    0.375573\n",
       "DenseRectangularMetaLayer_3_layers                                               0.0\n",
       "DenseRectangularMetaLayer_3_units                                              227.0\n",
       "model                                                                  bayesian_ffnn\n",
       "Name: 164, dtype: object"
      ]
     },
     "metadata": {},
     "output_type": "display_data"
    },
    {
     "data": {
      "text/plain": [
       "run_type                                                                          test\n",
       "task                                          inactive_enhancers_vs_inactive_promoters\n",
       "cell_line                                                                           H1\n",
       "DenseRectangularMetaLayer_0_dropout_rate                                       0.34811\n",
       "DenseRectangularMetaLayer_0_layers                                                 0.0\n",
       "DenseRectangularMetaLayer_0_units                                                  7.0\n",
       "DenseRectangularMetaLayer_1_dropout_rate                                      0.029727\n",
       "DenseRectangularMetaLayer_1_layers                                                 3.0\n",
       "DenseRectangularMetaLayer_1_units                                                 64.0\n",
       "model                                                                     bayesian_cnn\n",
       "Conv2DRectangularMetaLayer_0_dropout_rate                                     0.109058\n",
       "Conv2DRectangularMetaLayer_0_filters                                              56.0\n",
       "Conv2DRectangularMetaLayer_0_layers                                                3.0\n",
       "Conv2DRectangularMetaLayer_0_x_kernel_size                                         5.0\n",
       "Conv2DRectangularMetaLayer_0_x_pool_size                                           8.0\n",
       "Conv2DRectangularMetaLayer_0_y_kernel_size                                         2.0\n",
       "Conv2DRectangularMetaLayer_0_y_pool_size                                           1.0\n",
       "Conv2DRectangularMetaLayer_1_dropout_rate                                     0.187336\n",
       "Conv2DRectangularMetaLayer_1_filters                                              71.0\n",
       "Conv2DRectangularMetaLayer_1_layers                                                0.0\n",
       "Conv2DRectangularMetaLayer_1_x_kernel_size                                         2.0\n",
       "Conv2DRectangularMetaLayer_1_x_pool_size                                           5.0\n",
       "Conv2DRectangularMetaLayer_1_y_kernel_size                                         2.0\n",
       "Conv2DRectangularMetaLayer_1_y_pool_size                                           1.0\n",
       "Name: 836, dtype: object"
      ]
     },
     "metadata": {},
     "output_type": "display_data"
    },
    {
     "data": {
      "text/plain": [
       "run_type                                                                        test\n",
       "task                                        inactive_enhancers_vs_inactive_promoters\n",
       "cell_line                                                                         H1\n",
       "DenseRectangularMetaLayer_0_dropout_rate                                    0.048419\n",
       "DenseRectangularMetaLayer_0_layers                                               3.0\n",
       "DenseRectangularMetaLayer_0_units                                               85.0\n",
       "DenseRectangularMetaLayer_1_dropout_rate                                    0.011002\n",
       "DenseRectangularMetaLayer_1_layers                                               0.0\n",
       "DenseRectangularMetaLayer_1_units                                               56.0\n",
       "DenseRectangularMetaLayer_2_dropout_rate                                     0.05396\n",
       "DenseRectangularMetaLayer_2_layers                                               0.0\n",
       "DenseRectangularMetaLayer_2_units                                               56.0\n",
       "DenseRectangularMetaLayer_3_dropout_rate                                    0.471801\n",
       "DenseRectangularMetaLayer_3_layers                                               0.0\n",
       "DenseRectangularMetaLayer_3_units                                               85.0\n",
       "model                                                                  bayesian_ffnn\n",
       "Name: 273, dtype: object"
      ]
     },
     "metadata": {},
     "output_type": "display_data"
    },
    {
     "data": {
      "text/plain": [
       "run_type                                                                          test\n",
       "task                                          inactive_enhancers_vs_inactive_promoters\n",
       "cell_line                                                                       HEK293\n",
       "DenseRectangularMetaLayer_0_dropout_rate                                      0.141606\n",
       "DenseRectangularMetaLayer_0_layers                                                 0.0\n",
       "DenseRectangularMetaLayer_0_units                                                  7.0\n",
       "DenseRectangularMetaLayer_1_dropout_rate                                       0.13479\n",
       "DenseRectangularMetaLayer_1_layers                                                 3.0\n",
       "DenseRectangularMetaLayer_1_units                                                 21.0\n",
       "model                                                                     bayesian_cnn\n",
       "Conv2DRectangularMetaLayer_0_dropout_rate                                     0.360357\n",
       "Conv2DRectangularMetaLayer_0_filters                                              42.0\n",
       "Conv2DRectangularMetaLayer_0_layers                                                3.0\n",
       "Conv2DRectangularMetaLayer_0_x_kernel_size                                         8.0\n",
       "Conv2DRectangularMetaLayer_0_x_pool_size                                           5.0\n",
       "Conv2DRectangularMetaLayer_0_y_kernel_size                                         2.0\n",
       "Conv2DRectangularMetaLayer_0_y_pool_size                                           1.0\n",
       "Conv2DRectangularMetaLayer_1_dropout_rate                                     0.183372\n",
       "Conv2DRectangularMetaLayer_1_filters                                              28.0\n",
       "Conv2DRectangularMetaLayer_1_layers                                                0.0\n",
       "Conv2DRectangularMetaLayer_1_x_kernel_size                                         3.0\n",
       "Conv2DRectangularMetaLayer_1_x_pool_size                                           7.0\n",
       "Conv2DRectangularMetaLayer_1_y_kernel_size                                         2.0\n",
       "Conv2DRectangularMetaLayer_1_y_pool_size                                           1.0\n",
       "Name: 884, dtype: object"
      ]
     },
     "metadata": {},
     "output_type": "display_data"
    },
    {
     "data": {
      "text/plain": [
       "run_type                                                                        test\n",
       "task                                        inactive_enhancers_vs_inactive_promoters\n",
       "cell_line                                                                     HEK293\n",
       "DenseRectangularMetaLayer_0_dropout_rate                                    0.291572\n",
       "DenseRectangularMetaLayer_0_layers                                               0.0\n",
       "DenseRectangularMetaLayer_0_units                                              199.0\n",
       "DenseRectangularMetaLayer_1_dropout_rate                                    0.049299\n",
       "DenseRectangularMetaLayer_1_layers                                               3.0\n",
       "DenseRectangularMetaLayer_1_units                                              142.0\n",
       "DenseRectangularMetaLayer_2_dropout_rate                                    0.289904\n",
       "DenseRectangularMetaLayer_2_layers                                               0.0\n",
       "DenseRectangularMetaLayer_2_units                                               85.0\n",
       "DenseRectangularMetaLayer_3_dropout_rate                                    0.397473\n",
       "DenseRectangularMetaLayer_3_layers                                               0.0\n",
       "DenseRectangularMetaLayer_3_units                                              227.0\n",
       "model                                                                  bayesian_ffnn\n",
       "Name: 372, dtype: object"
      ]
     },
     "metadata": {},
     "output_type": "display_data"
    },
    {
     "data": {
      "text/plain": [
       "run_type                                                                          test\n",
       "task                                          inactive_enhancers_vs_inactive_promoters\n",
       "cell_line                                                                        HepG2\n",
       "DenseRectangularMetaLayer_0_dropout_rate                                      0.237193\n",
       "DenseRectangularMetaLayer_0_layers                                                 0.0\n",
       "DenseRectangularMetaLayer_0_units                                                 42.0\n",
       "DenseRectangularMetaLayer_1_dropout_rate                                      0.000618\n",
       "DenseRectangularMetaLayer_1_layers                                                 3.0\n",
       "DenseRectangularMetaLayer_1_units                                                 35.0\n",
       "model                                                                     bayesian_cnn\n",
       "Conv2DRectangularMetaLayer_0_dropout_rate                                     0.350195\n",
       "Conv2DRectangularMetaLayer_0_filters                                              71.0\n",
       "Conv2DRectangularMetaLayer_0_layers                                                3.0\n",
       "Conv2DRectangularMetaLayer_0_x_kernel_size                                         8.0\n",
       "Conv2DRectangularMetaLayer_0_x_pool_size                                           5.0\n",
       "Conv2DRectangularMetaLayer_0_y_kernel_size                                         2.0\n",
       "Conv2DRectangularMetaLayer_0_y_pool_size                                           1.0\n",
       "Conv2DRectangularMetaLayer_1_dropout_rate                                     0.399985\n",
       "Conv2DRectangularMetaLayer_1_filters                                              85.0\n",
       "Conv2DRectangularMetaLayer_1_layers                                                0.0\n",
       "Conv2DRectangularMetaLayer_1_x_kernel_size                                         6.0\n",
       "Conv2DRectangularMetaLayer_1_x_pool_size                                           8.0\n",
       "Conv2DRectangularMetaLayer_1_y_kernel_size                                         1.0\n",
       "Conv2DRectangularMetaLayer_1_y_pool_size                                           1.0\n",
       "Name: 938, dtype: object"
      ]
     },
     "metadata": {},
     "output_type": "display_data"
    },
    {
     "data": {
      "text/plain": [
       "run_type                                                                        test\n",
       "task                                        inactive_enhancers_vs_inactive_promoters\n",
       "cell_line                                                                      HepG2\n",
       "DenseRectangularMetaLayer_0_dropout_rate                                    0.048419\n",
       "DenseRectangularMetaLayer_0_layers                                               3.0\n",
       "DenseRectangularMetaLayer_0_units                                               85.0\n",
       "DenseRectangularMetaLayer_1_dropout_rate                                    0.011002\n",
       "DenseRectangularMetaLayer_1_layers                                               0.0\n",
       "DenseRectangularMetaLayer_1_units                                               56.0\n",
       "DenseRectangularMetaLayer_2_dropout_rate                                     0.05396\n",
       "DenseRectangularMetaLayer_2_layers                                               0.0\n",
       "DenseRectangularMetaLayer_2_units                                               56.0\n",
       "DenseRectangularMetaLayer_3_dropout_rate                                    0.471801\n",
       "DenseRectangularMetaLayer_3_layers                                               0.0\n",
       "DenseRectangularMetaLayer_3_units                                               85.0\n",
       "model                                                                  bayesian_ffnn\n",
       "Name: 476, dtype: object"
      ]
     },
     "metadata": {},
     "output_type": "display_data"
    },
    {
     "data": {
      "text/plain": [
       "run_type                                                                          test\n",
       "task                                          inactive_enhancers_vs_inactive_promoters\n",
       "cell_line                                                                         K562\n",
       "DenseRectangularMetaLayer_0_dropout_rate                                      0.247979\n",
       "DenseRectangularMetaLayer_0_layers                                                 2.0\n",
       "DenseRectangularMetaLayer_0_units                                                 35.0\n",
       "DenseRectangularMetaLayer_1_dropout_rate                                      0.183113\n",
       "DenseRectangularMetaLayer_1_layers                                                 2.0\n",
       "DenseRectangularMetaLayer_1_units                                                 64.0\n",
       "model                                                                     bayesian_cnn\n",
       "Conv2DRectangularMetaLayer_0_dropout_rate                                     0.166279\n",
       "Conv2DRectangularMetaLayer_0_filters                                              28.0\n",
       "Conv2DRectangularMetaLayer_0_layers                                                3.0\n",
       "Conv2DRectangularMetaLayer_0_x_kernel_size                                         7.0\n",
       "Conv2DRectangularMetaLayer_0_x_pool_size                                           7.0\n",
       "Conv2DRectangularMetaLayer_0_y_kernel_size                                         2.0\n",
       "Conv2DRectangularMetaLayer_0_y_pool_size                                           1.0\n",
       "Conv2DRectangularMetaLayer_1_dropout_rate                                     0.096585\n",
       "Conv2DRectangularMetaLayer_1_filters                                              85.0\n",
       "Conv2DRectangularMetaLayer_1_layers                                                0.0\n",
       "Conv2DRectangularMetaLayer_1_x_kernel_size                                         7.0\n",
       "Conv2DRectangularMetaLayer_1_x_pool_size                                           4.0\n",
       "Conv2DRectangularMetaLayer_1_y_kernel_size                                         2.0\n",
       "Conv2DRectangularMetaLayer_1_y_pool_size                                           2.0\n",
       "Name: 989, dtype: object"
      ]
     },
     "metadata": {},
     "output_type": "display_data"
    },
    {
     "data": {
      "text/plain": [
       "run_type                                                                        test\n",
       "task                                        inactive_enhancers_vs_inactive_promoters\n",
       "cell_line                                                                       K562\n",
       "DenseRectangularMetaLayer_0_dropout_rate                                    0.340959\n",
       "DenseRectangularMetaLayer_0_layers                                               0.0\n",
       "DenseRectangularMetaLayer_0_units                                               85.0\n",
       "DenseRectangularMetaLayer_1_dropout_rate                                    0.001975\n",
       "DenseRectangularMetaLayer_1_layers                                               1.0\n",
       "DenseRectangularMetaLayer_1_units                                               85.0\n",
       "DenseRectangularMetaLayer_2_dropout_rate                                    0.094779\n",
       "DenseRectangularMetaLayer_2_layers                                               1.0\n",
       "DenseRectangularMetaLayer_2_units                                              199.0\n",
       "DenseRectangularMetaLayer_3_dropout_rate                                    0.021509\n",
       "DenseRectangularMetaLayer_3_layers                                               0.0\n",
       "DenseRectangularMetaLayer_3_units                                               56.0\n",
       "model                                                                  bayesian_ffnn\n",
       "Name: 575, dtype: object"
      ]
     },
     "metadata": {},
     "output_type": "display_data"
    },
    {
     "data": {
      "text/plain": [
       "run_type                                                                          test\n",
       "task                                          inactive_enhancers_vs_inactive_promoters\n",
       "cell_line                                                                        MCF-7\n",
       "DenseRectangularMetaLayer_0_dropout_rate                                      0.142721\n",
       "DenseRectangularMetaLayer_0_layers                                                 0.0\n",
       "DenseRectangularMetaLayer_0_units                                                 28.0\n",
       "DenseRectangularMetaLayer_1_dropout_rate                                      0.012418\n",
       "DenseRectangularMetaLayer_1_layers                                                 1.0\n",
       "DenseRectangularMetaLayer_1_units                                                 49.0\n",
       "model                                                                     bayesian_cnn\n",
       "Conv2DRectangularMetaLayer_0_dropout_rate                                     0.277674\n",
       "Conv2DRectangularMetaLayer_0_filters                                              28.0\n",
       "Conv2DRectangularMetaLayer_0_layers                                                3.0\n",
       "Conv2DRectangularMetaLayer_0_x_kernel_size                                         6.0\n",
       "Conv2DRectangularMetaLayer_0_x_pool_size                                           6.0\n",
       "Conv2DRectangularMetaLayer_0_y_kernel_size                                         2.0\n",
       "Conv2DRectangularMetaLayer_0_y_pool_size                                           1.0\n",
       "Conv2DRectangularMetaLayer_1_dropout_rate                                     0.400836\n",
       "Conv2DRectangularMetaLayer_1_filters                                              85.0\n",
       "Conv2DRectangularMetaLayer_1_layers                                                0.0\n",
       "Conv2DRectangularMetaLayer_1_x_kernel_size                                         7.0\n",
       "Conv2DRectangularMetaLayer_1_x_pool_size                                           5.0\n",
       "Conv2DRectangularMetaLayer_1_y_kernel_size                                         1.0\n",
       "Conv2DRectangularMetaLayer_1_y_pool_size                                           2.0\n",
       "Name: 1035, dtype: object"
      ]
     },
     "metadata": {},
     "output_type": "display_data"
    },
    {
     "data": {
      "text/plain": [
       "run_type                                                                        test\n",
       "task                                        inactive_enhancers_vs_inactive_promoters\n",
       "cell_line                                                                      MCF-7\n",
       "DenseRectangularMetaLayer_0_dropout_rate                                    0.211203\n",
       "DenseRectangularMetaLayer_0_layers                                               3.0\n",
       "DenseRectangularMetaLayer_0_units                                               85.0\n",
       "DenseRectangularMetaLayer_1_dropout_rate                                     0.44009\n",
       "DenseRectangularMetaLayer_1_layers                                               0.0\n",
       "DenseRectangularMetaLayer_1_units                                                0.0\n",
       "DenseRectangularMetaLayer_2_dropout_rate                                    0.219159\n",
       "DenseRectangularMetaLayer_2_layers                                               2.0\n",
       "DenseRectangularMetaLayer_2_units                                              113.0\n",
       "DenseRectangularMetaLayer_3_dropout_rate                                    0.193054\n",
       "DenseRectangularMetaLayer_3_layers                                               2.0\n",
       "DenseRectangularMetaLayer_3_units                                               28.0\n",
       "model                                                                  bayesian_ffnn\n",
       "Name: 672, dtype: object"
      ]
     },
     "metadata": {},
     "output_type": "display_data"
    }
   ],
   "source": [
    "for (task, cell_line, model), group in report_only_bayes.groupby([\"task\", \"cell_line\", \"model\"]):\n",
    "    group = group.dropna(axis=1)\n",
    "    display(group.drop(columns=metrics).iloc[group.AUPRC.argmax()])"
   ]
  },
  {
   "cell_type": "code",
   "execution_count": 118,
   "metadata": {},
   "outputs": [
    {
     "data": {
      "application/vnd.jupyter.widget-view+json": {
       "model_id": "04fc9a710cef4412a29df6cfdac75261",
       "version_major": 2,
       "version_minor": 0
      },
      "text/plain": [
       "  0%|          | 0/1050 [00:00<?, ?it/s]"
      ]
     },
     "metadata": {},
     "output_type": "display_data"
    }
   ],
   "source": [
    "import os\n",
    "from glob import glob\n",
    "\n",
    "useless_columns = [\n",
    "    \"episodes_total\",\n",
    "    \"timesteps_total\",\n",
    "    \"done\",\n",
    "    \"experiment_id\",\n",
    "    \"date\",\n",
    "    \"timestamp\",\n",
    "    \"time_total_s\",\n",
    "    \"pid\",\n",
    "    \"hostname\",\n",
    "    \"node_ip\",\n",
    "    \"time_since_restore\",\n",
    "    \"timesteps_since_restore\",\n",
    "    \"iterations_since_restore\",\n",
    "    \"trial_id\",\n",
    "    \"time_this_iter_s\",\n",
    "    \"training_iteration\",\n",
    "    \"logdir\"\n",
    "]\n",
    "\n",
    "all_csv = []\n",
    "\n",
    "for csv_path in tqdm(glob(\"results/*/tuning_analyses/*/*/*.csv.gz\")):\n",
    "    _, model_name, _, task, cell_line, _ = csv_path.split(os.sep)\n",
    "    csv = pd.read_csv(csv_path).drop(columns=useless_columns)\n",
    "    csv = csv[csv.columns[12:]]\n",
    "    csv.columns = [\n",
    "        column[4:] if column.startswith(\"val_\") else column\n",
    "        for column in csv.columns\n",
    "    ]\n",
    "    csv.columns = [\n",
    "        column.split(\"/\")[1] if \"/\" in column else column\n",
    "        for column in csv.columns\n",
    "    ]\n",
    "    csv[\"model\"] = model_name\n",
    "    csv[\"task\"] = task\n",
    "    csv[\"cell_line\"] = cell_line\n",
    "    all_csv.append(csv)\n",
    "\n",
    "all_csv = pd.concat(all_csv)"
   ]
  },
  {
   "cell_type": "code",
   "execution_count": 183,
   "metadata": {},
   "outputs": [],
   "source": [
    "wasserman_cell_lines = [\n",
    "    \"HepG2\", \"K562\", \"GM12878\"\n",
    "]"
   ]
  },
  {
   "cell_type": "code",
   "execution_count": 187,
   "metadata": {
    "scrolled": false
   },
   "outputs": [
    {
     "name": "stdout",
     "output_type": "stream",
     "text": [
      "active_enhancers_vs_active_promoters CNN\n"
     ]
    },
    {
     "data": {
      "image/png": "[encoded data removed]",
      "text/plain": [
       "<Figure size 432x432 with 1 Axes>"
      ]
     },
     "metadata": {
      "needs_background": "light"
     },
     "output_type": "display_data"
    },
    {
     "name": "stdout",
     "output_type": "stream",
     "text": [
      "active_enhancers_vs_active_promoters MLP\n"
     ]
    },
    {
     "data": {
      "image/png": "[encoded data removed]",
      "text/plain": [
       "<Figure size 432x432 with 1 Axes>"
      ]
     },
     "metadata": {
      "needs_background": "light"
     },
     "output_type": "display_data"
    },
    {
     "name": "stdout",
     "output_type": "stream",
     "text": [
      "active_enhancers_vs_inactive_enhancers CNN\n"
     ]
    },
    {
     "data": {
      "image/png": "[encoded data removed]",
      "text/plain": [
       "<Figure size 432x432 with 1 Axes>"
      ]
     },
     "metadata": {
      "needs_background": "light"
     },
     "output_type": "display_data"
    },
    {
     "name": "stdout",
     "output_type": "stream",
     "text": [
      "active_enhancers_vs_inactive_enhancers MLP\n"
     ]
    },
    {
     "data": {
      "image/png": "[encoded data removed]",
      "text/plain": [
       "<Figure size 432x432 with 1 Axes>"
      ]
     },
     "metadata": {
      "needs_background": "light"
     },
     "output_type": "display_data"
    },
    {
     "name": "stdout",
     "output_type": "stream",
     "text": [
      "active_promoters_vs_inactive_promoters CNN\n"
     ]
    },
    {
     "data": {
      "image/png": "[encoded data removed]",
      "text/plain": [
       "<Figure size 432x432 with 1 Axes>"
      ]
     },
     "metadata": {
      "needs_background": "light"
     },
     "output_type": "display_data"
    },
    {
     "name": "stdout",
     "output_type": "stream",
     "text": [
      "active_promoters_vs_inactive_promoters MLP\n"
     ]
    },
    {
     "data": {
      "image/png": "[encoded data removed]",
      "text/plain": [
       "<Figure size 432x432 with 1 Axes>"
      ]
     },
     "metadata": {
      "needs_background": "light"
     },
     "output_type": "display_data"
    },
    {
     "name": "stdout",
     "output_type": "stream",
     "text": [
      "active_vs_inactive CNN\n"
     ]
    },
    {
     "data": {
      "image/png": "[encoded data removed]",
      "text/plain": [
       "<Figure size 432x432 with 1 Axes>"
      ]
     },
     "metadata": {
      "needs_background": "light"
     },
     "output_type": "display_data"
    },
    {
     "name": "stdout",
     "output_type": "stream",
     "text": [
      "active_vs_inactive MLP\n"
     ]
    },
    {
     "data": {
      "image/png": "[encoded data removed]",
      "text/plain": [
       "<Figure size 432x432 with 1 Axes>"
      ]
     },
     "metadata": {
      "needs_background": "light"
     },
     "output_type": "display_data"
    },
    {
     "name": "stdout",
     "output_type": "stream",
     "text": [
      "inactive_enhancers_vs_inactive_promoters CNN\n"
     ]
    },
    {
     "data": {
      "image/png": "[encoded data removed]",
      "text/plain": [
       "<Figure size 432x432 with 1 Axes>"
      ]
     },
     "metadata": {
      "needs_background": "light"
     },
     "output_type": "display_data"
    },
    {
     "name": "stdout",
     "output_type": "stream",
     "text": [
      "inactive_enhancers_vs_inactive_promoters MLP\n"
     ]
    },
    {
     "data": {
      "image/png": "[encoded data removed]",
      "text/plain": [
       "<Figure size 432x432 with 1 Axes>"
      ]
     },
     "metadata": {
      "needs_background": "light"
     },
     "output_type": "display_data"
    }
   ],
   "source": [
    "import os\n",
    "os.makedirs(\"densities\", exist_ok=True)\n",
    "for (task, model), group in all_csv.groupby([\"task\", \"model\"]):\n",
    "    print(task, model)\n",
    "    group = group.dropna(axis=1)\n",
    "    columns = [\n",
    "        column\n",
    "        for column in group.columns\n",
    "        if column not in metrics\n",
    "    ] + metrics\n",
    "    # Resorting the dataframe\n",
    "    group = group[columns]\n",
    "    for cell_line, subgroup in group.groupby([\"cell_line\"]):\n",
    "        if cell_line in wasserman_cell_lines:\n",
    "            subgroup.AUPRC.plot.kde(alpha=0.8, figsize=(6, 6), label=cell_line)#, range=(0, 1))#, bins=50)\n",
    "    plt.xlim(0, 1)\n",
    "    plt.legend()\n",
    "    plt.xlabel(\"Validation AUPRC (hg38)\")\n",
    "    plt.tight_layout()\n",
    "    plt.savefig(f\"./densities/{task}_{model}.jpg\")\n",
    "    plt.show()"
   ]
  },
  {
   "cell_type": "code",
   "execution_count": null,
   "metadata": {},
   "outputs": [],
   "source": []
  }
 ],
 "metadata": {
  "kernelspec": {
   "display_name": "Python 3",
   "language": "python",
   "name": "python3"
  },
  "language_info": {
   "codemirror_mode": {
    "name": "ipython",
    "version": 3
   },
   "file_extension": ".py",
   "mimetype": "text/x-python",
   "name": "python",
   "nbconvert_exporter": "python",
   "pygments_lexer": "ipython3",
   "version": "3.7.6"
  }
 },
 "nbformat": 4,
 "nbformat_minor": 4
}
